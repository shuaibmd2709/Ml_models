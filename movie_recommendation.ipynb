{
  "nbformat": 4,
  "nbformat_minor": 0,
  "metadata": {
    "colab": {
      "provenance": []
    },
    "kernelspec": {
      "name": "python3",
      "display_name": "Python 3"
    },
    "language_info": {
      "name": "python"
    }
  },
  "cells": [
    {
      "cell_type": "code",
      "execution_count": 1,
      "metadata": {
        "colab": {
          "base_uri": "https://localhost:8080/"
        },
        "id": "SukOaA3nhK6D",
        "outputId": "c8646be0-ce9e-4de2-f1aa-378342765c9b"
      },
      "outputs": [
        {
          "output_type": "stream",
          "name": "stdout",
          "text": [
            "Mounted at /content/drive\n"
          ]
        }
      ],
      "source": [
        "from google.colab import drive\n",
        "drive.mount('/content/drive')"
      ]
    },
    {
      "cell_type": "code",
      "source": [
        "path = '/content/drive/MyDrive/tmdb_5000_credits.csv'\n",
        "path2 = '/content/drive/MyDrive/tmdb_5000_movies.csv'"
      ],
      "metadata": {
        "id": "JfG9yQRRhP81"
      },
      "execution_count": 2,
      "outputs": []
    },
    {
      "cell_type": "code",
      "source": [
        "import numpy as np\n",
        "import pandas as pd"
      ],
      "metadata": {
        "id": "KATS79J2hlaV"
      },
      "execution_count": 3,
      "outputs": []
    },
    {
      "cell_type": "code",
      "source": [
        "film  = pd.read_csv(path)\n",
        "credits = pd.read_csv(path2)"
      ],
      "metadata": {
        "id": "71VJTLlIiVPj"
      },
      "execution_count": 4,
      "outputs": []
    },
    {
      "cell_type": "code",
      "source": [
        "film = film.merge(credits,on='title')"
      ],
      "metadata": {
        "id": "bhS5xR3iigaq"
      },
      "execution_count": 5,
      "outputs": []
    },
    {
      "cell_type": "code",
      "source": [
        "film.head(2)"
      ],
      "metadata": {
        "colab": {
          "base_uri": "https://localhost:8080/",
          "height": 335
        },
        "id": "Uz2gVr7ci22v",
        "outputId": "8e38ab65-e04f-467f-e052-fd7494defaec"
      },
      "execution_count": 6,
      "outputs": [
        {
          "output_type": "execute_result",
          "data": {
            "text/plain": [
              "   movie_id                                     title  \\\n",
              "0     19995                                    Avatar   \n",
              "1       285  Pirates of the Caribbean: At World's End   \n",
              "\n",
              "                                                cast  \\\n",
              "0  [{\"cast_id\": 242, \"character\": \"Jake Sully\", \"...   \n",
              "1  [{\"cast_id\": 4, \"character\": \"Captain Jack Spa...   \n",
              "\n",
              "                                                crew     budget  \\\n",
              "0  [{\"credit_id\": \"52fe48009251416c750aca23\", \"de...  237000000   \n",
              "1  [{\"credit_id\": \"52fe4232c3a36847f800b579\", \"de...  300000000   \n",
              "\n",
              "                                              genres  \\\n",
              "0  [{\"id\": 28, \"name\": \"Action\"}, {\"id\": 12, \"nam...   \n",
              "1  [{\"id\": 12, \"name\": \"Adventure\"}, {\"id\": 14, \"...   \n",
              "\n",
              "                                       homepage     id  \\\n",
              "0                   http://www.avatarmovie.com/  19995   \n",
              "1  http://disney.go.com/disneypictures/pirates/    285   \n",
              "\n",
              "                                            keywords original_language  ...  \\\n",
              "0  [{\"id\": 1463, \"name\": \"culture clash\"}, {\"id\":...                en  ...   \n",
              "1  [{\"id\": 270, \"name\": \"ocean\"}, {\"id\": 726, \"na...                en  ...   \n",
              "\n",
              "                                production_companies  \\\n",
              "0  [{\"name\": \"Ingenious Film Partners\", \"id\": 289...   \n",
              "1  [{\"name\": \"Walt Disney Pictures\", \"id\": 2}, {\"...   \n",
              "\n",
              "                                production_countries  release_date  \\\n",
              "0  [{\"iso_3166_1\": \"US\", \"name\": \"United States o...    2009-12-10   \n",
              "1  [{\"iso_3166_1\": \"US\", \"name\": \"United States o...    2007-05-19   \n",
              "\n",
              "      revenue runtime                                   spoken_languages  \\\n",
              "0  2787965087   162.0  [{\"iso_639_1\": \"en\", \"name\": \"English\"}, {\"iso...   \n",
              "1   961000000   169.0           [{\"iso_639_1\": \"en\", \"name\": \"English\"}]   \n",
              "\n",
              "     status                                         tagline vote_average  \\\n",
              "0  Released                     Enter the World of Pandora.          7.2   \n",
              "1  Released  At the end of the world, the adventure begins.          6.9   \n",
              "\n",
              "  vote_count  \n",
              "0      11800  \n",
              "1       4500  \n",
              "\n",
              "[2 rows x 23 columns]"
            ],
            "text/html": [
              "\n",
              "  <div id=\"df-b3b8fbe9-db9c-4a1f-a4cf-5370ca0e37b2\" class=\"colab-df-container\">\n",
              "    <div>\n",
              "<style scoped>\n",
              "    .dataframe tbody tr th:only-of-type {\n",
              "        vertical-align: middle;\n",
              "    }\n",
              "\n",
              "    .dataframe tbody tr th {\n",
              "        vertical-align: top;\n",
              "    }\n",
              "\n",
              "    .dataframe thead th {\n",
              "        text-align: right;\n",
              "    }\n",
              "</style>\n",
              "<table border=\"1\" class=\"dataframe\">\n",
              "  <thead>\n",
              "    <tr style=\"text-align: right;\">\n",
              "      <th></th>\n",
              "      <th>movie_id</th>\n",
              "      <th>title</th>\n",
              "      <th>cast</th>\n",
              "      <th>crew</th>\n",
              "      <th>budget</th>\n",
              "      <th>genres</th>\n",
              "      <th>homepage</th>\n",
              "      <th>id</th>\n",
              "      <th>keywords</th>\n",
              "      <th>original_language</th>\n",
              "      <th>...</th>\n",
              "      <th>production_companies</th>\n",
              "      <th>production_countries</th>\n",
              "      <th>release_date</th>\n",
              "      <th>revenue</th>\n",
              "      <th>runtime</th>\n",
              "      <th>spoken_languages</th>\n",
              "      <th>status</th>\n",
              "      <th>tagline</th>\n",
              "      <th>vote_average</th>\n",
              "      <th>vote_count</th>\n",
              "    </tr>\n",
              "  </thead>\n",
              "  <tbody>\n",
              "    <tr>\n",
              "      <th>0</th>\n",
              "      <td>19995</td>\n",
              "      <td>Avatar</td>\n",
              "      <td>[{\"cast_id\": 242, \"character\": \"Jake Sully\", \"...</td>\n",
              "      <td>[{\"credit_id\": \"52fe48009251416c750aca23\", \"de...</td>\n",
              "      <td>237000000</td>\n",
              "      <td>[{\"id\": 28, \"name\": \"Action\"}, {\"id\": 12, \"nam...</td>\n",
              "      <td>http://www.avatarmovie.com/</td>\n",
              "      <td>19995</td>\n",
              "      <td>[{\"id\": 1463, \"name\": \"culture clash\"}, {\"id\":...</td>\n",
              "      <td>en</td>\n",
              "      <td>...</td>\n",
              "      <td>[{\"name\": \"Ingenious Film Partners\", \"id\": 289...</td>\n",
              "      <td>[{\"iso_3166_1\": \"US\", \"name\": \"United States o...</td>\n",
              "      <td>2009-12-10</td>\n",
              "      <td>2787965087</td>\n",
              "      <td>162.0</td>\n",
              "      <td>[{\"iso_639_1\": \"en\", \"name\": \"English\"}, {\"iso...</td>\n",
              "      <td>Released</td>\n",
              "      <td>Enter the World of Pandora.</td>\n",
              "      <td>7.2</td>\n",
              "      <td>11800</td>\n",
              "    </tr>\n",
              "    <tr>\n",
              "      <th>1</th>\n",
              "      <td>285</td>\n",
              "      <td>Pirates of the Caribbean: At World's End</td>\n",
              "      <td>[{\"cast_id\": 4, \"character\": \"Captain Jack Spa...</td>\n",
              "      <td>[{\"credit_id\": \"52fe4232c3a36847f800b579\", \"de...</td>\n",
              "      <td>300000000</td>\n",
              "      <td>[{\"id\": 12, \"name\": \"Adventure\"}, {\"id\": 14, \"...</td>\n",
              "      <td>http://disney.go.com/disneypictures/pirates/</td>\n",
              "      <td>285</td>\n",
              "      <td>[{\"id\": 270, \"name\": \"ocean\"}, {\"id\": 726, \"na...</td>\n",
              "      <td>en</td>\n",
              "      <td>...</td>\n",
              "      <td>[{\"name\": \"Walt Disney Pictures\", \"id\": 2}, {\"...</td>\n",
              "      <td>[{\"iso_3166_1\": \"US\", \"name\": \"United States o...</td>\n",
              "      <td>2007-05-19</td>\n",
              "      <td>961000000</td>\n",
              "      <td>169.0</td>\n",
              "      <td>[{\"iso_639_1\": \"en\", \"name\": \"English\"}]</td>\n",
              "      <td>Released</td>\n",
              "      <td>At the end of the world, the adventure begins.</td>\n",
              "      <td>6.9</td>\n",
              "      <td>4500</td>\n",
              "    </tr>\n",
              "  </tbody>\n",
              "</table>\n",
              "<p>2 rows × 23 columns</p>\n",
              "</div>\n",
              "    <div class=\"colab-df-buttons\">\n",
              "\n",
              "  <div class=\"colab-df-container\">\n",
              "    <button class=\"colab-df-convert\" onclick=\"convertToInteractive('df-b3b8fbe9-db9c-4a1f-a4cf-5370ca0e37b2')\"\n",
              "            title=\"Convert this dataframe to an interactive table.\"\n",
              "            style=\"display:none;\">\n",
              "\n",
              "  <svg xmlns=\"http://www.w3.org/2000/svg\" height=\"24px\" viewBox=\"0 -960 960 960\">\n",
              "    <path d=\"M120-120v-720h720v720H120Zm60-500h600v-160H180v160Zm220 220h160v-160H400v160Zm0 220h160v-160H400v160ZM180-400h160v-160H180v160Zm440 0h160v-160H620v160ZM180-180h160v-160H180v160Zm440 0h160v-160H620v160Z\"/>\n",
              "  </svg>\n",
              "    </button>\n",
              "\n",
              "  <style>\n",
              "    .colab-df-container {\n",
              "      display:flex;\n",
              "      gap: 12px;\n",
              "    }\n",
              "\n",
              "    .colab-df-convert {\n",
              "      background-color: #E8F0FE;\n",
              "      border: none;\n",
              "      border-radius: 50%;\n",
              "      cursor: pointer;\n",
              "      display: none;\n",
              "      fill: #1967D2;\n",
              "      height: 32px;\n",
              "      padding: 0 0 0 0;\n",
              "      width: 32px;\n",
              "    }\n",
              "\n",
              "    .colab-df-convert:hover {\n",
              "      background-color: #E2EBFA;\n",
              "      box-shadow: 0px 1px 2px rgba(60, 64, 67, 0.3), 0px 1px 3px 1px rgba(60, 64, 67, 0.15);\n",
              "      fill: #174EA6;\n",
              "    }\n",
              "\n",
              "    .colab-df-buttons div {\n",
              "      margin-bottom: 4px;\n",
              "    }\n",
              "\n",
              "    [theme=dark] .colab-df-convert {\n",
              "      background-color: #3B4455;\n",
              "      fill: #D2E3FC;\n",
              "    }\n",
              "\n",
              "    [theme=dark] .colab-df-convert:hover {\n",
              "      background-color: #434B5C;\n",
              "      box-shadow: 0px 1px 3px 1px rgba(0, 0, 0, 0.15);\n",
              "      filter: drop-shadow(0px 1px 2px rgba(0, 0, 0, 0.3));\n",
              "      fill: #FFFFFF;\n",
              "    }\n",
              "  </style>\n",
              "\n",
              "    <script>\n",
              "      const buttonEl =\n",
              "        document.querySelector('#df-b3b8fbe9-db9c-4a1f-a4cf-5370ca0e37b2 button.colab-df-convert');\n",
              "      buttonEl.style.display =\n",
              "        google.colab.kernel.accessAllowed ? 'block' : 'none';\n",
              "\n",
              "      async function convertToInteractive(key) {\n",
              "        const element = document.querySelector('#df-b3b8fbe9-db9c-4a1f-a4cf-5370ca0e37b2');\n",
              "        const dataTable =\n",
              "          await google.colab.kernel.invokeFunction('convertToInteractive',\n",
              "                                                    [key], {});\n",
              "        if (!dataTable) return;\n",
              "\n",
              "        const docLinkHtml = 'Like what you see? Visit the ' +\n",
              "          '<a target=\"_blank\" href=https://colab.research.google.com/notebooks/data_table.ipynb>data table notebook</a>'\n",
              "          + ' to learn more about interactive tables.';\n",
              "        element.innerHTML = '';\n",
              "        dataTable['output_type'] = 'display_data';\n",
              "        await google.colab.output.renderOutput(dataTable, element);\n",
              "        const docLink = document.createElement('div');\n",
              "        docLink.innerHTML = docLinkHtml;\n",
              "        element.appendChild(docLink);\n",
              "      }\n",
              "    </script>\n",
              "  </div>\n",
              "\n",
              "\n",
              "    <div id=\"df-70f847d7-3de1-4a15-8bbf-dd02ab2406a5\">\n",
              "      <button class=\"colab-df-quickchart\" onclick=\"quickchart('df-70f847d7-3de1-4a15-8bbf-dd02ab2406a5')\"\n",
              "                title=\"Suggest charts\"\n",
              "                style=\"display:none;\">\n",
              "\n",
              "<svg xmlns=\"http://www.w3.org/2000/svg\" height=\"24px\"viewBox=\"0 0 24 24\"\n",
              "     width=\"24px\">\n",
              "    <g>\n",
              "        <path d=\"M19 3H5c-1.1 0-2 .9-2 2v14c0 1.1.9 2 2 2h14c1.1 0 2-.9 2-2V5c0-1.1-.9-2-2-2zM9 17H7v-7h2v7zm4 0h-2V7h2v10zm4 0h-2v-4h2v4z\"/>\n",
              "    </g>\n",
              "</svg>\n",
              "      </button>\n",
              "\n",
              "<style>\n",
              "  .colab-df-quickchart {\n",
              "      --bg-color: #E8F0FE;\n",
              "      --fill-color: #1967D2;\n",
              "      --hover-bg-color: #E2EBFA;\n",
              "      --hover-fill-color: #174EA6;\n",
              "      --disabled-fill-color: #AAA;\n",
              "      --disabled-bg-color: #DDD;\n",
              "  }\n",
              "\n",
              "  [theme=dark] .colab-df-quickchart {\n",
              "      --bg-color: #3B4455;\n",
              "      --fill-color: #D2E3FC;\n",
              "      --hover-bg-color: #434B5C;\n",
              "      --hover-fill-color: #FFFFFF;\n",
              "      --disabled-bg-color: #3B4455;\n",
              "      --disabled-fill-color: #666;\n",
              "  }\n",
              "\n",
              "  .colab-df-quickchart {\n",
              "    background-color: var(--bg-color);\n",
              "    border: none;\n",
              "    border-radius: 50%;\n",
              "    cursor: pointer;\n",
              "    display: none;\n",
              "    fill: var(--fill-color);\n",
              "    height: 32px;\n",
              "    padding: 0;\n",
              "    width: 32px;\n",
              "  }\n",
              "\n",
              "  .colab-df-quickchart:hover {\n",
              "    background-color: var(--hover-bg-color);\n",
              "    box-shadow: 0 1px 2px rgba(60, 64, 67, 0.3), 0 1px 3px 1px rgba(60, 64, 67, 0.15);\n",
              "    fill: var(--button-hover-fill-color);\n",
              "  }\n",
              "\n",
              "  .colab-df-quickchart-complete:disabled,\n",
              "  .colab-df-quickchart-complete:disabled:hover {\n",
              "    background-color: var(--disabled-bg-color);\n",
              "    fill: var(--disabled-fill-color);\n",
              "    box-shadow: none;\n",
              "  }\n",
              "\n",
              "  .colab-df-spinner {\n",
              "    border: 2px solid var(--fill-color);\n",
              "    border-color: transparent;\n",
              "    border-bottom-color: var(--fill-color);\n",
              "    animation:\n",
              "      spin 1s steps(1) infinite;\n",
              "  }\n",
              "\n",
              "  @keyframes spin {\n",
              "    0% {\n",
              "      border-color: transparent;\n",
              "      border-bottom-color: var(--fill-color);\n",
              "      border-left-color: var(--fill-color);\n",
              "    }\n",
              "    20% {\n",
              "      border-color: transparent;\n",
              "      border-left-color: var(--fill-color);\n",
              "      border-top-color: var(--fill-color);\n",
              "    }\n",
              "    30% {\n",
              "      border-color: transparent;\n",
              "      border-left-color: var(--fill-color);\n",
              "      border-top-color: var(--fill-color);\n",
              "      border-right-color: var(--fill-color);\n",
              "    }\n",
              "    40% {\n",
              "      border-color: transparent;\n",
              "      border-right-color: var(--fill-color);\n",
              "      border-top-color: var(--fill-color);\n",
              "    }\n",
              "    60% {\n",
              "      border-color: transparent;\n",
              "      border-right-color: var(--fill-color);\n",
              "    }\n",
              "    80% {\n",
              "      border-color: transparent;\n",
              "      border-right-color: var(--fill-color);\n",
              "      border-bottom-color: var(--fill-color);\n",
              "    }\n",
              "    90% {\n",
              "      border-color: transparent;\n",
              "      border-bottom-color: var(--fill-color);\n",
              "    }\n",
              "  }\n",
              "</style>\n",
              "\n",
              "      <script>\n",
              "        async function quickchart(key) {\n",
              "          const quickchartButtonEl =\n",
              "            document.querySelector('#' + key + ' button');\n",
              "          quickchartButtonEl.disabled = true;  // To prevent multiple clicks.\n",
              "          quickchartButtonEl.classList.add('colab-df-spinner');\n",
              "          try {\n",
              "            const charts = await google.colab.kernel.invokeFunction(\n",
              "                'suggestCharts', [key], {});\n",
              "          } catch (error) {\n",
              "            console.error('Error during call to suggestCharts:', error);\n",
              "          }\n",
              "          quickchartButtonEl.classList.remove('colab-df-spinner');\n",
              "          quickchartButtonEl.classList.add('colab-df-quickchart-complete');\n",
              "        }\n",
              "        (() => {\n",
              "          let quickchartButtonEl =\n",
              "            document.querySelector('#df-70f847d7-3de1-4a15-8bbf-dd02ab2406a5 button');\n",
              "          quickchartButtonEl.style.display =\n",
              "            google.colab.kernel.accessAllowed ? 'block' : 'none';\n",
              "        })();\n",
              "      </script>\n",
              "    </div>\n",
              "\n",
              "    </div>\n",
              "  </div>\n"
            ],
            "application/vnd.google.colaboratory.intrinsic+json": {
              "type": "dataframe",
              "variable_name": "film"
            }
          },
          "metadata": {},
          "execution_count": 6
        }
      ]
    },
    {
      "cell_type": "code",
      "source": [
        "film = film[['movie_id','title','overview','genres','keywords','cast','crew']]"
      ],
      "metadata": {
        "id": "s_XSV2Dmi-oE"
      },
      "execution_count": 7,
      "outputs": []
    },
    {
      "cell_type": "code",
      "source": [
        "film.isna().sum()"
      ],
      "metadata": {
        "colab": {
          "base_uri": "https://localhost:8080/",
          "height": 303
        },
        "id": "oMHS6ZNkjRnA",
        "outputId": "f1e30a42-651a-42f3-d989-794b32f50f30"
      },
      "execution_count": 8,
      "outputs": [
        {
          "output_type": "execute_result",
          "data": {
            "text/plain": [
              "movie_id    0\n",
              "title       0\n",
              "overview    3\n",
              "genres      0\n",
              "keywords    0\n",
              "cast        0\n",
              "crew        0\n",
              "dtype: int64"
            ],
            "text/html": [
              "<div>\n",
              "<style scoped>\n",
              "    .dataframe tbody tr th:only-of-type {\n",
              "        vertical-align: middle;\n",
              "    }\n",
              "\n",
              "    .dataframe tbody tr th {\n",
              "        vertical-align: top;\n",
              "    }\n",
              "\n",
              "    .dataframe thead th {\n",
              "        text-align: right;\n",
              "    }\n",
              "</style>\n",
              "<table border=\"1\" class=\"dataframe\">\n",
              "  <thead>\n",
              "    <tr style=\"text-align: right;\">\n",
              "      <th></th>\n",
              "      <th>0</th>\n",
              "    </tr>\n",
              "  </thead>\n",
              "  <tbody>\n",
              "    <tr>\n",
              "      <th>movie_id</th>\n",
              "      <td>0</td>\n",
              "    </tr>\n",
              "    <tr>\n",
              "      <th>title</th>\n",
              "      <td>0</td>\n",
              "    </tr>\n",
              "    <tr>\n",
              "      <th>overview</th>\n",
              "      <td>3</td>\n",
              "    </tr>\n",
              "    <tr>\n",
              "      <th>genres</th>\n",
              "      <td>0</td>\n",
              "    </tr>\n",
              "    <tr>\n",
              "      <th>keywords</th>\n",
              "      <td>0</td>\n",
              "    </tr>\n",
              "    <tr>\n",
              "      <th>cast</th>\n",
              "      <td>0</td>\n",
              "    </tr>\n",
              "    <tr>\n",
              "      <th>crew</th>\n",
              "      <td>0</td>\n",
              "    </tr>\n",
              "  </tbody>\n",
              "</table>\n",
              "</div><br><label><b>dtype:</b> int64</label>"
            ]
          },
          "metadata": {},
          "execution_count": 8
        }
      ]
    },
    {
      "cell_type": "code",
      "source": [
        "film.dropna(inplace=True)"
      ],
      "metadata": {
        "id": "aKelGiDMjbmk"
      },
      "execution_count": 9,
      "outputs": []
    },
    {
      "cell_type": "code",
      "source": [
        "film.head(2)"
      ],
      "metadata": {
        "colab": {
          "base_uri": "https://localhost:8080/",
          "height": 147
        },
        "id": "GCqyOfthjjsy",
        "outputId": "dffe39ea-6614-432c-a339-c9ef2d4750e6"
      },
      "execution_count": 10,
      "outputs": [
        {
          "output_type": "execute_result",
          "data": {
            "text/plain": [
              "   movie_id                                     title  \\\n",
              "0     19995                                    Avatar   \n",
              "1       285  Pirates of the Caribbean: At World's End   \n",
              "\n",
              "                                            overview  \\\n",
              "0  In the 22nd century, a paraplegic Marine is di...   \n",
              "1  Captain Barbossa, long believed to be dead, ha...   \n",
              "\n",
              "                                              genres  \\\n",
              "0  [{\"id\": 28, \"name\": \"Action\"}, {\"id\": 12, \"nam...   \n",
              "1  [{\"id\": 12, \"name\": \"Adventure\"}, {\"id\": 14, \"...   \n",
              "\n",
              "                                            keywords  \\\n",
              "0  [{\"id\": 1463, \"name\": \"culture clash\"}, {\"id\":...   \n",
              "1  [{\"id\": 270, \"name\": \"ocean\"}, {\"id\": 726, \"na...   \n",
              "\n",
              "                                                cast  \\\n",
              "0  [{\"cast_id\": 242, \"character\": \"Jake Sully\", \"...   \n",
              "1  [{\"cast_id\": 4, \"character\": \"Captain Jack Spa...   \n",
              "\n",
              "                                                crew  \n",
              "0  [{\"credit_id\": \"52fe48009251416c750aca23\", \"de...  \n",
              "1  [{\"credit_id\": \"52fe4232c3a36847f800b579\", \"de...  "
            ],
            "text/html": [
              "\n",
              "  <div id=\"df-8748da4c-3c29-4bf5-85a8-93e969a534a0\" class=\"colab-df-container\">\n",
              "    <div>\n",
              "<style scoped>\n",
              "    .dataframe tbody tr th:only-of-type {\n",
              "        vertical-align: middle;\n",
              "    }\n",
              "\n",
              "    .dataframe tbody tr th {\n",
              "        vertical-align: top;\n",
              "    }\n",
              "\n",
              "    .dataframe thead th {\n",
              "        text-align: right;\n",
              "    }\n",
              "</style>\n",
              "<table border=\"1\" class=\"dataframe\">\n",
              "  <thead>\n",
              "    <tr style=\"text-align: right;\">\n",
              "      <th></th>\n",
              "      <th>movie_id</th>\n",
              "      <th>title</th>\n",
              "      <th>overview</th>\n",
              "      <th>genres</th>\n",
              "      <th>keywords</th>\n",
              "      <th>cast</th>\n",
              "      <th>crew</th>\n",
              "    </tr>\n",
              "  </thead>\n",
              "  <tbody>\n",
              "    <tr>\n",
              "      <th>0</th>\n",
              "      <td>19995</td>\n",
              "      <td>Avatar</td>\n",
              "      <td>In the 22nd century, a paraplegic Marine is di...</td>\n",
              "      <td>[{\"id\": 28, \"name\": \"Action\"}, {\"id\": 12, \"nam...</td>\n",
              "      <td>[{\"id\": 1463, \"name\": \"culture clash\"}, {\"id\":...</td>\n",
              "      <td>[{\"cast_id\": 242, \"character\": \"Jake Sully\", \"...</td>\n",
              "      <td>[{\"credit_id\": \"52fe48009251416c750aca23\", \"de...</td>\n",
              "    </tr>\n",
              "    <tr>\n",
              "      <th>1</th>\n",
              "      <td>285</td>\n",
              "      <td>Pirates of the Caribbean: At World's End</td>\n",
              "      <td>Captain Barbossa, long believed to be dead, ha...</td>\n",
              "      <td>[{\"id\": 12, \"name\": \"Adventure\"}, {\"id\": 14, \"...</td>\n",
              "      <td>[{\"id\": 270, \"name\": \"ocean\"}, {\"id\": 726, \"na...</td>\n",
              "      <td>[{\"cast_id\": 4, \"character\": \"Captain Jack Spa...</td>\n",
              "      <td>[{\"credit_id\": \"52fe4232c3a36847f800b579\", \"de...</td>\n",
              "    </tr>\n",
              "  </tbody>\n",
              "</table>\n",
              "</div>\n",
              "    <div class=\"colab-df-buttons\">\n",
              "\n",
              "  <div class=\"colab-df-container\">\n",
              "    <button class=\"colab-df-convert\" onclick=\"convertToInteractive('df-8748da4c-3c29-4bf5-85a8-93e969a534a0')\"\n",
              "            title=\"Convert this dataframe to an interactive table.\"\n",
              "            style=\"display:none;\">\n",
              "\n",
              "  <svg xmlns=\"http://www.w3.org/2000/svg\" height=\"24px\" viewBox=\"0 -960 960 960\">\n",
              "    <path d=\"M120-120v-720h720v720H120Zm60-500h600v-160H180v160Zm220 220h160v-160H400v160Zm0 220h160v-160H400v160ZM180-400h160v-160H180v160Zm440 0h160v-160H620v160ZM180-180h160v-160H180v160Zm440 0h160v-160H620v160Z\"/>\n",
              "  </svg>\n",
              "    </button>\n",
              "\n",
              "  <style>\n",
              "    .colab-df-container {\n",
              "      display:flex;\n",
              "      gap: 12px;\n",
              "    }\n",
              "\n",
              "    .colab-df-convert {\n",
              "      background-color: #E8F0FE;\n",
              "      border: none;\n",
              "      border-radius: 50%;\n",
              "      cursor: pointer;\n",
              "      display: none;\n",
              "      fill: #1967D2;\n",
              "      height: 32px;\n",
              "      padding: 0 0 0 0;\n",
              "      width: 32px;\n",
              "    }\n",
              "\n",
              "    .colab-df-convert:hover {\n",
              "      background-color: #E2EBFA;\n",
              "      box-shadow: 0px 1px 2px rgba(60, 64, 67, 0.3), 0px 1px 3px 1px rgba(60, 64, 67, 0.15);\n",
              "      fill: #174EA6;\n",
              "    }\n",
              "\n",
              "    .colab-df-buttons div {\n",
              "      margin-bottom: 4px;\n",
              "    }\n",
              "\n",
              "    [theme=dark] .colab-df-convert {\n",
              "      background-color: #3B4455;\n",
              "      fill: #D2E3FC;\n",
              "    }\n",
              "\n",
              "    [theme=dark] .colab-df-convert:hover {\n",
              "      background-color: #434B5C;\n",
              "      box-shadow: 0px 1px 3px 1px rgba(0, 0, 0, 0.15);\n",
              "      filter: drop-shadow(0px 1px 2px rgba(0, 0, 0, 0.3));\n",
              "      fill: #FFFFFF;\n",
              "    }\n",
              "  </style>\n",
              "\n",
              "    <script>\n",
              "      const buttonEl =\n",
              "        document.querySelector('#df-8748da4c-3c29-4bf5-85a8-93e969a534a0 button.colab-df-convert');\n",
              "      buttonEl.style.display =\n",
              "        google.colab.kernel.accessAllowed ? 'block' : 'none';\n",
              "\n",
              "      async function convertToInteractive(key) {\n",
              "        const element = document.querySelector('#df-8748da4c-3c29-4bf5-85a8-93e969a534a0');\n",
              "        const dataTable =\n",
              "          await google.colab.kernel.invokeFunction('convertToInteractive',\n",
              "                                                    [key], {});\n",
              "        if (!dataTable) return;\n",
              "\n",
              "        const docLinkHtml = 'Like what you see? Visit the ' +\n",
              "          '<a target=\"_blank\" href=https://colab.research.google.com/notebooks/data_table.ipynb>data table notebook</a>'\n",
              "          + ' to learn more about interactive tables.';\n",
              "        element.innerHTML = '';\n",
              "        dataTable['output_type'] = 'display_data';\n",
              "        await google.colab.output.renderOutput(dataTable, element);\n",
              "        const docLink = document.createElement('div');\n",
              "        docLink.innerHTML = docLinkHtml;\n",
              "        element.appendChild(docLink);\n",
              "      }\n",
              "    </script>\n",
              "  </div>\n",
              "\n",
              "\n",
              "    <div id=\"df-8b39dec8-6871-4a1b-91dc-a4776d7f0485\">\n",
              "      <button class=\"colab-df-quickchart\" onclick=\"quickchart('df-8b39dec8-6871-4a1b-91dc-a4776d7f0485')\"\n",
              "                title=\"Suggest charts\"\n",
              "                style=\"display:none;\">\n",
              "\n",
              "<svg xmlns=\"http://www.w3.org/2000/svg\" height=\"24px\"viewBox=\"0 0 24 24\"\n",
              "     width=\"24px\">\n",
              "    <g>\n",
              "        <path d=\"M19 3H5c-1.1 0-2 .9-2 2v14c0 1.1.9 2 2 2h14c1.1 0 2-.9 2-2V5c0-1.1-.9-2-2-2zM9 17H7v-7h2v7zm4 0h-2V7h2v10zm4 0h-2v-4h2v4z\"/>\n",
              "    </g>\n",
              "</svg>\n",
              "      </button>\n",
              "\n",
              "<style>\n",
              "  .colab-df-quickchart {\n",
              "      --bg-color: #E8F0FE;\n",
              "      --fill-color: #1967D2;\n",
              "      --hover-bg-color: #E2EBFA;\n",
              "      --hover-fill-color: #174EA6;\n",
              "      --disabled-fill-color: #AAA;\n",
              "      --disabled-bg-color: #DDD;\n",
              "  }\n",
              "\n",
              "  [theme=dark] .colab-df-quickchart {\n",
              "      --bg-color: #3B4455;\n",
              "      --fill-color: #D2E3FC;\n",
              "      --hover-bg-color: #434B5C;\n",
              "      --hover-fill-color: #FFFFFF;\n",
              "      --disabled-bg-color: #3B4455;\n",
              "      --disabled-fill-color: #666;\n",
              "  }\n",
              "\n",
              "  .colab-df-quickchart {\n",
              "    background-color: var(--bg-color);\n",
              "    border: none;\n",
              "    border-radius: 50%;\n",
              "    cursor: pointer;\n",
              "    display: none;\n",
              "    fill: var(--fill-color);\n",
              "    height: 32px;\n",
              "    padding: 0;\n",
              "    width: 32px;\n",
              "  }\n",
              "\n",
              "  .colab-df-quickchart:hover {\n",
              "    background-color: var(--hover-bg-color);\n",
              "    box-shadow: 0 1px 2px rgba(60, 64, 67, 0.3), 0 1px 3px 1px rgba(60, 64, 67, 0.15);\n",
              "    fill: var(--button-hover-fill-color);\n",
              "  }\n",
              "\n",
              "  .colab-df-quickchart-complete:disabled,\n",
              "  .colab-df-quickchart-complete:disabled:hover {\n",
              "    background-color: var(--disabled-bg-color);\n",
              "    fill: var(--disabled-fill-color);\n",
              "    box-shadow: none;\n",
              "  }\n",
              "\n",
              "  .colab-df-spinner {\n",
              "    border: 2px solid var(--fill-color);\n",
              "    border-color: transparent;\n",
              "    border-bottom-color: var(--fill-color);\n",
              "    animation:\n",
              "      spin 1s steps(1) infinite;\n",
              "  }\n",
              "\n",
              "  @keyframes spin {\n",
              "    0% {\n",
              "      border-color: transparent;\n",
              "      border-bottom-color: var(--fill-color);\n",
              "      border-left-color: var(--fill-color);\n",
              "    }\n",
              "    20% {\n",
              "      border-color: transparent;\n",
              "      border-left-color: var(--fill-color);\n",
              "      border-top-color: var(--fill-color);\n",
              "    }\n",
              "    30% {\n",
              "      border-color: transparent;\n",
              "      border-left-color: var(--fill-color);\n",
              "      border-top-color: var(--fill-color);\n",
              "      border-right-color: var(--fill-color);\n",
              "    }\n",
              "    40% {\n",
              "      border-color: transparent;\n",
              "      border-right-color: var(--fill-color);\n",
              "      border-top-color: var(--fill-color);\n",
              "    }\n",
              "    60% {\n",
              "      border-color: transparent;\n",
              "      border-right-color: var(--fill-color);\n",
              "    }\n",
              "    80% {\n",
              "      border-color: transparent;\n",
              "      border-right-color: var(--fill-color);\n",
              "      border-bottom-color: var(--fill-color);\n",
              "    }\n",
              "    90% {\n",
              "      border-color: transparent;\n",
              "      border-bottom-color: var(--fill-color);\n",
              "    }\n",
              "  }\n",
              "</style>\n",
              "\n",
              "      <script>\n",
              "        async function quickchart(key) {\n",
              "          const quickchartButtonEl =\n",
              "            document.querySelector('#' + key + ' button');\n",
              "          quickchartButtonEl.disabled = true;  // To prevent multiple clicks.\n",
              "          quickchartButtonEl.classList.add('colab-df-spinner');\n",
              "          try {\n",
              "            const charts = await google.colab.kernel.invokeFunction(\n",
              "                'suggestCharts', [key], {});\n",
              "          } catch (error) {\n",
              "            console.error('Error during call to suggestCharts:', error);\n",
              "          }\n",
              "          quickchartButtonEl.classList.remove('colab-df-spinner');\n",
              "          quickchartButtonEl.classList.add('colab-df-quickchart-complete');\n",
              "        }\n",
              "        (() => {\n",
              "          let quickchartButtonEl =\n",
              "            document.querySelector('#df-8b39dec8-6871-4a1b-91dc-a4776d7f0485 button');\n",
              "          quickchartButtonEl.style.display =\n",
              "            google.colab.kernel.accessAllowed ? 'block' : 'none';\n",
              "        })();\n",
              "      </script>\n",
              "    </div>\n",
              "\n",
              "    </div>\n",
              "  </div>\n"
            ],
            "application/vnd.google.colaboratory.intrinsic+json": {
              "type": "dataframe",
              "variable_name": "film",
              "summary": "{\n  \"name\": \"film\",\n  \"rows\": 4806,\n  \"fields\": [\n    {\n      \"column\": \"movie_id\",\n      \"properties\": {\n        \"dtype\": \"number\",\n        \"std\": 88309,\n        \"min\": 5,\n        \"max\": 447027,\n        \"num_unique_values\": 4800,\n        \"samples\": [\n          8427,\n          15581,\n          9893\n        ],\n        \"semantic_type\": \"\",\n        \"description\": \"\"\n      }\n    },\n    {\n      \"column\": \"title\",\n      \"properties\": {\n        \"dtype\": \"string\",\n        \"num_unique_values\": 4797,\n        \"samples\": [\n          \"Two Brothers\",\n          \"From Paris with Love\",\n          \"Walk the Line\"\n        ],\n        \"semantic_type\": \"\",\n        \"description\": \"\"\n      }\n    },\n    {\n      \"column\": \"overview\",\n      \"properties\": {\n        \"dtype\": \"string\",\n        \"num_unique_values\": 4800,\n        \"samples\": [\n          \"When the Switchblade, the most sophisticated prototype stealth fighter created yet, is stolen from the U.S. government, one of the United States' top spies, Alex Scott, is called to action. What he doesn't expect is to get teamed up with a cocky civilian, World Class Boxing Champion Kelly Robinson, on a dangerous top secret espionage mission. Their assignment: using equal parts skill and humor, catch Arnold Gundars, one of the world's most successful arms dealers.\",\n          \"In 1931, three aboriginal girls escape after being plucked from their homes to be trained as domestic staff and set off on a trek across the Outback.\",\n          \"Kyle Fisher has one last night to celebrate life as a single man before marrying Laura, so he sets out to Vegas with four of his best buddies. But a drug and alcohol filled night on the town with a stripper who goes all the way, turns into a cold night in the desert with shovels when the stripper goes all the way into a body bag after dying in their bathroom. And that's just the first of the bodies to pile up before Kyle can walk down the aisle...\"\n        ],\n        \"semantic_type\": \"\",\n        \"description\": \"\"\n      }\n    },\n    {\n      \"column\": \"genres\",\n      \"properties\": {\n        \"dtype\": \"category\",\n        \"num_unique_values\": 1175,\n        \"samples\": [\n          \"[{\\\"id\\\": 14, \\\"name\\\": \\\"Fantasy\\\"}, {\\\"id\\\": 18, \\\"name\\\": \\\"Drama\\\"}, {\\\"id\\\": 28, \\\"name\\\": \\\"Action\\\"}, {\\\"id\\\": 53, \\\"name\\\": \\\"Thriller\\\"}, {\\\"id\\\": 10749, \\\"name\\\": \\\"Romance\\\"}]\",\n          \"[{\\\"id\\\": 28, \\\"name\\\": \\\"Action\\\"}, {\\\"id\\\": 35, \\\"name\\\": \\\"Comedy\\\"}, {\\\"id\\\": 80, \\\"name\\\": \\\"Crime\\\"}, {\\\"id\\\": 18, \\\"name\\\": \\\"Drama\\\"}]\",\n          \"[{\\\"id\\\": 12, \\\"name\\\": \\\"Adventure\\\"}, {\\\"id\\\": 16, \\\"name\\\": \\\"Animation\\\"}, {\\\"id\\\": 10751, \\\"name\\\": \\\"Family\\\"}, {\\\"id\\\": 14, \\\"name\\\": \\\"Fantasy\\\"}, {\\\"id\\\": 878, \\\"name\\\": \\\"Science Fiction\\\"}]\"\n        ],\n        \"semantic_type\": \"\",\n        \"description\": \"\"\n      }\n    },\n    {\n      \"column\": \"keywords\",\n      \"properties\": {\n        \"dtype\": \"string\",\n        \"num_unique_values\": 4220,\n        \"samples\": [\n          \"[{\\\"id\\\": 387, \\\"name\\\": \\\"california\\\"}, {\\\"id\\\": 2702, \\\"name\\\": \\\"golf\\\"}, {\\\"id\\\": 3089, \\\"name\\\": \\\"oscar award\\\"}, {\\\"id\\\": 6563, \\\"name\\\": \\\"wine\\\"}, {\\\"id\\\": 8070, \\\"name\\\": \\\"stag night\\\"}, {\\\"id\\\": 10776, \\\"name\\\": \\\"marijuana\\\"}, {\\\"id\\\": 13028, \\\"name\\\": \\\"writer\\\"}]\",\n          \"[{\\\"id\\\": 3036, \\\"name\\\": \\\"bible\\\"}, {\\\"id\\\": 9649, \\\"name\\\": \\\"god\\\"}, {\\\"id\\\": 195790, \\\"name\\\": \\\"noah\\\"}, {\\\"id\\\": 209714, \\\"name\\\": \\\"3d\\\"}]\",\n          \"[{\\\"id\\\": 305, \\\"name\\\": \\\"moon\\\"}, {\\\"id\\\": 345, \\\"name\\\": \\\"monk\\\"}, {\\\"id\\\": 1400, \\\"name\\\": \\\"swordplay\\\"}, {\\\"id\\\": 2637, \\\"name\\\": \\\"bishop\\\"}, {\\\"id\\\": 2638, \\\"name\\\": \\\"cathedral\\\"}, {\\\"id\\\": 2639, \\\"name\\\": \\\"falcon\\\"}, {\\\"id\\\": 2640, \\\"name\\\": \\\"twilight\\\"}, {\\\"id\\\": 2642, \\\"name\\\": \\\"solar eclipse\\\"}, {\\\"id\\\": 9727, \\\"name\\\": \\\"thief\\\"}]\"\n        ],\n        \"semantic_type\": \"\",\n        \"description\": \"\"\n      }\n    },\n    {\n      \"column\": \"cast\",\n      \"properties\": {\n        \"dtype\": \"string\",\n        \"num_unique_values\": 4759,\n        \"samples\": [\n          \"[{\\\"cast_id\\\": 1, \\\"character\\\": \\\"Joshua \\\\\\\"Josh\\\\\\\" Baskin\\\", \\\"credit_id\\\": \\\"52fe4349c3a36847f8048ac3\\\", \\\"gender\\\": 2, \\\"id\\\": 31, \\\"name\\\": \\\"Tom Hanks\\\", \\\"order\\\": 0}, {\\\"cast_id\\\": 2, \\\"character\\\": \\\"Susan\\\", \\\"credit_id\\\": \\\"52fe4349c3a36847f8048ac7\\\", \\\"gender\\\": 1, \\\"id\\\": 20, \\\"name\\\": \\\"Elizabeth Perkins\\\", \\\"order\\\": 1}, {\\\"cast_id\\\": 3, \\\"character\\\": \\\"MacMillan\\\", \\\"credit_id\\\": \\\"52fe4349c3a36847f8048acb\\\", \\\"gender\\\": 2, \\\"id\\\": 1162, \\\"name\\\": \\\"Robert Loggia\\\", \\\"order\\\": 2}, {\\\"cast_id\\\": 4, \\\"character\\\": \\\"Paul\\\", \\\"credit_id\\\": \\\"52fe4349c3a36847f8048acf\\\", \\\"gender\\\": 2, \\\"id\\\": 11512, \\\"name\\\": \\\"John Heard\\\", \\\"order\\\": 3}, {\\\"cast_id\\\": 16, \\\"character\\\": \\\"Billy\\\", \\\"credit_id\\\": \\\"52fe4349c3a36847f8048b11\\\", \\\"gender\\\": 2, \\\"id\\\": 57422, \\\"name\\\": \\\"Jared Rushton\\\", \\\"order\\\": 4}, {\\\"cast_id\\\": 17, \\\"character\\\": \\\"Young Josh\\\", \\\"credit_id\\\": \\\"52fe4349c3a36847f8048b15\\\", \\\"gender\\\": 2, \\\"id\\\": 62123, \\\"name\\\": \\\"David Moscow\\\", \\\"order\\\": 5}, {\\\"cast_id\\\": 5, \\\"character\\\": \\\"Scotty Brennen\\\", \\\"credit_id\\\": \\\"52fe4349c3a36847f8048ad3\\\", \\\"gender\\\": 2, \\\"id\\\": 16165, \\\"name\\\": \\\"Jon Lovitz\\\", \\\"order\\\": 6}, {\\\"cast_id\\\": 6, \\\"character\\\": \\\"Mrs. Baskin\\\", \\\"credit_id\\\": \\\"52fe4349c3a36847f8048ad7\\\", \\\"gender\\\": 1, \\\"id\\\": 2167, \\\"name\\\": \\\"Mercedes Ruehl\\\", \\\"order\\\": 7}, {\\\"cast_id\\\": 18, \\\"character\\\": \\\"Mr. Baskin\\\", \\\"credit_id\\\": \\\"52fe4349c3a36847f8048b19\\\", \\\"gender\\\": 2, \\\"id\\\": 143205, \\\"name\\\": \\\"Josh Clark\\\", \\\"order\\\": 8}, {\\\"cast_id\\\": 22, \\\"character\\\": \\\"Gym Teacher\\\", \\\"credit_id\\\": \\\"52fe4349c3a36847f8048b29\\\", \\\"gender\\\": 2, \\\"id\\\": 123728, \\\"name\\\": \\\"Allan Wasserman\\\", \\\"order\\\": 9}, {\\\"cast_id\\\": 19, \\\"character\\\": \\\"Cynthia Benson\\\", \\\"credit_id\\\": \\\"52fe4349c3a36847f8048b1d\\\", \\\"gender\\\": 0, \\\"id\\\": 1073814, \\\"name\\\": \\\"Kimberlee M. Davis\\\", \\\"order\\\": 10}, {\\\"cast_id\\\": 20, \\\"character\\\": \\\"Freddie Benson\\\", \\\"credit_id\\\": \\\"52fe4349c3a36847f8048b21\\\", \\\"gender\\\": 0, \\\"id\\\": 1073816, \\\"name\\\": \\\"Oliver Block\\\", \\\"order\\\": 11}, {\\\"cast_id\\\": 21, \\\"character\\\": \\\"Cynthia's Friend\\\", \\\"credit_id\\\": \\\"52fe4349c3a36847f8048b25\\\", \\\"gender\\\": 0, \\\"id\\\": 80138, \\\"name\\\": \\\"Erika Katz\\\", \\\"order\\\": 12}, {\\\"cast_id\\\": 23, \\\"character\\\": \\\"Derek\\\", \\\"credit_id\\\": \\\"52fe4349c3a36847f8048b2d\\\", \\\"gender\\\": 2, \\\"id\\\": 166788, \\\"name\\\": \\\"Mark Ballou\\\", \\\"order\\\": 13}, {\\\"cast_id\\\": 24, \\\"character\\\": \\\"Ticket Taker\\\", \\\"credit_id\\\": \\\"52fe4349c3a36847f8048b31\\\", \\\"gender\\\": 0, \\\"id\\\": 994134, \\\"name\\\": \\\"Gary Howard Klar\\\", \\\"order\\\": 14}]\",\n          \"[{\\\"cast_id\\\": 3, \\\"character\\\": \\\"Richard O'Connell\\\", \\\"credit_id\\\": \\\"52fe4312c3a36847f8038407\\\", \\\"gender\\\": 2, \\\"id\\\": 18269, \\\"name\\\": \\\"Brendan Fraser\\\", \\\"order\\\": 0}, {\\\"cast_id\\\": 4, \\\"character\\\": \\\"Evelyn Carnahan O'Connell/Princess Nefertiri\\\", \\\"credit_id\\\": \\\"52fe4312c3a36847f803840b\\\", \\\"gender\\\": 1, \\\"id\\\": 3293, \\\"name\\\": \\\"Rachel Weisz\\\", \\\"order\\\": 1}, {\\\"cast_id\\\": 5, \\\"character\\\": \\\"Jonathan Carnahan\\\", \\\"credit_id\\\": \\\"52fe4312c3a36847f803840f\\\", \\\"gender\\\": 2, \\\"id\\\": 10727, \\\"name\\\": \\\"John Hannah\\\", \\\"order\\\": 2}, {\\\"cast_id\\\": 6, \\\"character\\\": \\\"High Priest Imhotep\\\", \\\"credit_id\\\": \\\"52fe4312c3a36847f8038413\\\", \\\"gender\\\": 2, \\\"id\\\": 16743, \\\"name\\\": \\\"Arnold Vosloo\\\", \\\"order\\\": 3}, {\\\"cast_id\\\": 7, \\\"character\\\": \\\"Ardeth Bay\\\", \\\"credit_id\\\": \\\"52fe4312c3a36847f8038417\\\", \\\"gender\\\": 2, \\\"id\\\": 18041, \\\"name\\\": \\\"Oded Fehr\\\", \\\"order\\\": 4}, {\\\"cast_id\\\": 8, \\\"character\\\": \\\"Mathayus the Scorpion King\\\", \\\"credit_id\\\": \\\"52fe4312c3a36847f803841b\\\", \\\"gender\\\": 2, \\\"id\\\": 18918, \\\"name\\\": \\\"Dwayne Johnson\\\", \\\"order\\\": 5}, {\\\"cast_id\\\": 9, \\\"character\\\": \\\"Alexander O'Connell\\\", \\\"credit_id\\\": \\\"52fe4312c3a36847f803841f\\\", \\\"gender\\\": 2, \\\"id\\\": 18919, \\\"name\\\": \\\"Freddie Boath\\\", \\\"order\\\": 6}, {\\\"cast_id\\\": 10, \\\"character\\\": \\\"Meela Nais/Anck Su Namun\\\", \\\"credit_id\\\": \\\"52fe4312c3a36847f8038423\\\", \\\"gender\\\": 1, \\\"id\\\": 18920, \\\"name\\\": \\\"Patricia Vel\\\\u00e1squez\\\", \\\"order\\\": 7}, {\\\"cast_id\\\": 17, \\\"character\\\": \\\"Baltus Hafez\\\", \\\"credit_id\\\": \\\"52fe4312c3a36847f803844b\\\", \\\"gender\\\": 2, \\\"id\\\": 2629, \\\"name\\\": \\\"Alun Armstrong\\\", \\\"order\\\": 8}, {\\\"cast_id\\\": 18, \\\"character\\\": \\\"Lock-Nah\\\", \\\"credit_id\\\": \\\"52fe4312c3a36847f803844f\\\", \\\"gender\\\": 2, \\\"id\\\": 31164, \\\"name\\\": \\\"Adewale Akinnuoye-Agbaje\\\", \\\"order\\\": 9}, {\\\"cast_id\\\": 19, \\\"character\\\": \\\"Izzy Buttons\\\", \\\"credit_id\\\": \\\"52fe4312c3a36847f8038453\\\", \\\"gender\\\": 2, \\\"id\\\": 30316, \\\"name\\\": \\\"Shaun Parkes\\\", \\\"order\\\": 10}, {\\\"cast_id\\\": 20, \\\"character\\\": \\\"Red\\\", \\\"credit_id\\\": \\\"52fe4312c3a36847f8038457\\\", \\\"gender\\\": 0, \\\"id\\\": 25675, \\\"name\\\": \\\"Bruce Byron\\\", \\\"order\\\": 11}, {\\\"cast_id\\\": 21, \\\"character\\\": \\\"Jacques\\\", \\\"credit_id\\\": \\\"52fe4312c3a36847f803845b\\\", \\\"gender\\\": 0, \\\"id\\\": 1010264, \\\"name\\\": \\\"Joe Dixon\\\", \\\"order\\\": 12}, {\\\"cast_id\\\": 22, \\\"character\\\": \\\"Spivey\\\", \\\"credit_id\\\": \\\"52fe4312c3a36847f803845f\\\", \\\"gender\\\": 2, \\\"id\\\": 208211, \\\"name\\\": \\\"Thomas Fisher\\\", \\\"order\\\": 13}, {\\\"cast_id\\\": 23, \\\"character\\\": \\\"Pharaoh Seti I\\\", \\\"credit_id\\\": \\\"52fe4312c3a36847f8038463\\\", \\\"gender\\\": 2, \\\"id\\\": 25808, \\\"name\\\": \\\"Aharon Ipal\\\\u00e9\\\", \\\"order\\\": 14}, {\\\"cast_id\\\": 24, \\\"character\\\": \\\"Shafek\\\", \\\"credit_id\\\": \\\"52fe4312c3a36847f8038467\\\", \\\"gender\\\": 0, \\\"id\\\": 178631, \\\"name\\\": \\\"Quill Roberts\\\", \\\"order\\\": 15}, {\\\"cast_id\\\": 25, \\\"character\\\": \\\"Showgirl with Jonathan\\\", \\\"credit_id\\\": \\\"52fe4312c3a36847f803846b\\\", \\\"gender\\\": 1, \\\"id\\\": 120886, \\\"name\\\": \\\"Donna Air\\\", \\\"order\\\": 16}, {\\\"cast_id\\\": 26, \\\"character\\\": \\\"Mountain of Flesh\\\", \\\"credit_id\\\": \\\"52fe4312c3a36847f803846f\\\", \\\"gender\\\": 0, \\\"id\\\": 1077874, \\\"name\\\": \\\"Trevor Lovell\\\", \\\"order\\\": 17}, {\\\"cast_id\\\": 30, \\\"character\\\": \\\"Spivey\\\", \\\"credit_id\\\": \\\"536222b20e0a2649a900146a\\\", \\\"gender\\\": 0, \\\"id\\\": 27678, \\\"name\\\": \\\"Tom Fisher\\\", \\\"order\\\": 18}]\",\n          \"[{\\\"cast_id\\\": 2, \\\"character\\\": \\\"Donna Keppel\\\", \\\"credit_id\\\": \\\"52fe44b0c3a36847f80a478f\\\", \\\"gender\\\": 1, \\\"id\\\": 29221, \\\"name\\\": \\\"Brittany Snow\\\", \\\"order\\\": 0}, {\\\"cast_id\\\": 3, \\\"character\\\": \\\"Bobby\\\", \\\"credit_id\\\": \\\"52fe44b0c3a36847f80a4793\\\", \\\"gender\\\": 2, \\\"id\\\": 53368, \\\"name\\\": \\\"Scott Porter\\\", \\\"order\\\": 1}, {\\\"cast_id\\\": 4, \\\"character\\\": \\\"Claire\\\", \\\"credit_id\\\": \\\"52fe44b0c3a36847f80a4797\\\", \\\"gender\\\": 1, \\\"id\\\": 55463, \\\"name\\\": \\\"Jessica Stroup\\\", \\\"order\\\": 2}, {\\\"cast_id\\\": 5, \\\"character\\\": \\\"Lisa Hines\\\", \\\"credit_id\\\": \\\"52fe44b0c3a36847f80a479b\\\", \\\"gender\\\": 1, \\\"id\\\": 39556, \\\"name\\\": \\\"Dana Davis\\\", \\\"order\\\": 3}, {\\\"cast_id\\\": 6, \\\"character\\\": \\\"Michael\\\", \\\"credit_id\\\": \\\"52fe44b0c3a36847f80a479f\\\", \\\"gender\\\": 2, \\\"id\\\": 55464, \\\"name\\\": \\\"Kelly Blatz\\\", \\\"order\\\": 4}, {\\\"cast_id\\\": 7, \\\"character\\\": \\\"Ronnie Heflin\\\", \\\"credit_id\\\": \\\"52fe44b0c3a36847f80a47a3\\\", \\\"gender\\\": 2, \\\"id\\\": 53652, \\\"name\\\": \\\"Collins Pennie\\\", \\\"order\\\": 5}, {\\\"cast_id\\\": 8, \\\"character\\\": \\\"Richard Fenton\\\", \\\"credit_id\\\": \\\"52fe44b0c3a36847f80a47a7\\\", \\\"gender\\\": 2, \\\"id\\\": 51670, \\\"name\\\": \\\"Johnathon Schaech\\\", \\\"order\\\": 6}, {\\\"cast_id\\\": 24, \\\"character\\\": \\\"Detective Winn\\\", \\\"credit_id\\\": \\\"52fe44b0c3a36847f80a47f3\\\", \\\"gender\\\": 2, \\\"id\\\": 17605, \\\"name\\\": \\\"Idris Elba\\\", \\\"order\\\": 7}, {\\\"cast_id\\\": 28, \\\"character\\\": \\\"Dr. Elisha Crowe\\\", \\\"credit_id\\\": \\\"52fe44b0c3a36847f80a4809\\\", \\\"gender\\\": 1, \\\"id\\\": 21702, \\\"name\\\": \\\"Ming-Na Wen\\\", \\\"order\\\": 8}, {\\\"cast_id\\\": 29, \\\"character\\\": \\\"Aunt Karen Turner\\\", \\\"credit_id\\\": \\\"52fe44b0c3a36847f80a480d\\\", \\\"gender\\\": 1, \\\"id\\\": 7523, \\\"name\\\": \\\"Jessalyn Gilsig\\\", \\\"order\\\": 9}, {\\\"cast_id\\\": 30, \\\"character\\\": \\\"Rick Leland\\\", \\\"credit_id\\\": \\\"53e94dbc0e0a2654fd000009\\\", \\\"gender\\\": 2, \\\"id\\\": 34502, \\\"name\\\": \\\"Kellan Lutz\\\", \\\"order\\\": 10}, {\\\"cast_id\\\": 31, \\\"character\\\": \\\"Detective Nash\\\", \\\"credit_id\\\": \\\"53e94e36c3a3687ffa00000e\\\", \\\"gender\\\": 2, \\\"id\\\": 5296, \\\"name\\\": \\\"James Ransone\\\", \\\"order\\\": 11}, {\\\"cast_id\\\": 32, \\\"character\\\": \\\"Ms. Waters\\\", \\\"credit_id\\\": \\\"53e94e940e0a2654fd00001e\\\", \\\"gender\\\": 1, \\\"id\\\": 96554, \\\"name\\\": \\\"Mary Mara\\\", \\\"order\\\": 12}, {\\\"cast_id\\\": 33, \\\"character\\\": \\\"Dancer\\\", \\\"credit_id\\\": \\\"56d207d7c3a3681e4400b3de\\\", \\\"gender\\\": 1, \\\"id\\\": 159913, \\\"name\\\": \\\"Allison Kyler\\\", \\\"order\\\": 13}, {\\\"cast_id\\\": 34, \\\"character\\\": \\\"Officer Hicks\\\", \\\"credit_id\\\": \\\"57dd7339925141784a00050e\\\", \\\"gender\\\": 2, \\\"id\\\": 66560, \\\"name\\\": \\\"Craig Susser\\\", \\\"order\\\": 14}, {\\\"cast_id\\\": 43, \\\"character\\\": \\\"Mrs. Hines\\\", \\\"credit_id\\\": \\\"58c7285fc3a3683dd7001c0d\\\", \\\"gender\\\": 0, \\\"id\\\": 155435, \\\"name\\\": \\\"Valeri Ross\\\", \\\"order\\\": 15}, {\\\"cast_id\\\": 44, \\\"character\\\": \\\"Crissy Lynn\\\", \\\"credit_id\\\": \\\"590c3264c3a36801c60092ea\\\", \\\"gender\\\": 1, \\\"id\\\": 115126, \\\"name\\\": \\\"Brianne Davis\\\", \\\"order\\\": 16}, {\\\"cast_id\\\": 45, \\\"character\\\": \\\"Uncle Jack Turner\\\", \\\"credit_id\\\": \\\"590c32f1c3a36801c60093a5\\\", \\\"gender\\\": 2, \\\"id\\\": 57251, \\\"name\\\": \\\"Linden Ashby\\\", \\\"order\\\": 17}, {\\\"cast_id\\\": 46, \\\"character\\\": \\\"April\\\", \\\"credit_id\\\": \\\"590c336c9251415a8b009abc\\\", \\\"gender\\\": 1, \\\"id\\\": 92856, \\\"name\\\": \\\"Jana Kramer\\\", \\\"order\\\": 18}, {\\\"cast_id\\\": 47, \\\"character\\\": \\\"Taylor\\\", \\\"credit_id\\\": \\\"590c33b49251415a67009232\\\", \\\"gender\\\": 1, \\\"id\\\": 88038, \\\"name\\\": \\\"Rachel Specter\\\", \\\"order\\\": 19}, {\\\"cast_id\\\": 48, \\\"character\\\": \\\"Mrs. Keppel\\\", \\\"credit_id\\\": \\\"590c340a9251415a5e0090fa\\\", \\\"gender\\\": 1, \\\"id\\\": 15010, \\\"name\\\": \\\"Lori Heuring\\\", \\\"order\\\": 20}, {\\\"cast_id\\\": 49, \\\"character\\\": \\\"DJ Tyler\\\", \\\"credit_id\\\": \\\"590c3499c3a3680148009300\\\", \\\"gender\\\": 0, \\\"id\\\": 1627987, \\\"name\\\": \\\"Jay Phillips\\\", \\\"order\\\": 21}, {\\\"cast_id\\\": 61, \\\"character\\\": \\\"Bellhop\\\", \\\"credit_id\\\": \\\"590c397a9251415a8b009fca\\\", \\\"gender\\\": 2, \\\"id\\\": 26852, \\\"name\\\": \\\"Joshua Leonard\\\", \\\"order\\\": 22}]\"\n        ],\n        \"semantic_type\": \"\",\n        \"description\": \"\"\n      }\n    },\n    {\n      \"column\": \"crew\",\n      \"properties\": {\n        \"dtype\": \"string\",\n        \"num_unique_values\": 4773,\n        \"samples\": [\n          \"[{\\\"credit_id\\\": \\\"538d82720e0a26670e005e83\\\", \\\"department\\\": \\\"Editing\\\", \\\"gender\\\": 2, \\\"id\\\": 898, \\\"job\\\": \\\"Editor\\\", \\\"name\\\": \\\"Mark Goldblatt\\\"}, {\\\"credit_id\\\": \\\"538d82860e0a266702005de5\\\", \\\"department\\\": \\\"Editing\\\", \\\"gender\\\": 2, \\\"id\\\": 1098, \\\"job\\\": \\\"Editor\\\", \\\"name\\\": \\\"Mark Helfrich\\\"}, {\\\"credit_id\\\": \\\"538d820c0e0a266708006129\\\", \\\"department\\\": \\\"Production\\\", \\\"gender\\\": 0, \\\"id\\\": 2095, \\\"job\\\": \\\"Producer\\\", \\\"name\\\": \\\"Ralph Winter\\\"}, {\\\"credit_id\\\": \\\"538d82d30e0a266712005def\\\", \\\"department\\\": \\\"Production\\\", \\\"gender\\\": 2, \\\"id\\\": 2624, \\\"job\\\": \\\"Casting\\\", \\\"name\\\": \\\"Richard Pagano\\\"}, {\\\"credit_id\\\": \\\"538d82ea0e0a266715005e74\\\", \\\"department\\\": \\\"Art\\\", \\\"gender\\\": 2, \\\"id\\\": 4953, \\\"job\\\": \\\"Production Design\\\", \\\"name\\\": \\\"Ed Verreaux\\\"}, {\\\"credit_id\\\": \\\"538d82ad0e0a26670800614d\\\", \\\"department\\\": \\\"Production\\\", \\\"gender\\\": 1, \\\"id\\\": 5362, \\\"job\\\": \\\"Casting\\\", \\\"name\\\": \\\"Heike Brandstatter\\\"}, {\\\"credit_id\\\": \\\"538d82c00e0a266705005fa2\\\", \\\"department\\\": \\\"Production\\\", \\\"gender\\\": 1, \\\"id\\\": 5363, \\\"job\\\": \\\"Casting\\\", \\\"name\\\": \\\"Coreen Mayrs\\\"}, {\\\"credit_id\\\": \\\"538d845ec3a368713c0047d2\\\", \\\"department\\\": \\\"Costume & Make-Up\\\", \\\"gender\\\": 0, \\\"id\\\": 6924, \\\"job\\\": \\\"Costume Supervisor\\\", \\\"name\\\": \\\"Dan Moore\\\"}, {\\\"credit_id\\\": \\\"538d81ef0e0a266718005cb8\\\", \\\"department\\\": \\\"Production\\\", \\\"gender\\\": 1, \\\"id\\\": 7200, \\\"job\\\": \\\"Producer\\\", \\\"name\\\": \\\"Lauren Shuler Donner\\\"}, {\\\"credit_id\\\": \\\"576710bec3a36806720004b0\\\", \\\"department\\\": \\\"Production\\\", \\\"gender\\\": 2, \\\"id\\\": 7624, \\\"job\\\": \\\"Executive Producer\\\", \\\"name\\\": \\\"Stan Lee\\\"}, {\\\"credit_id\\\": \\\"538d81d80e0a266715005e4d\\\", \\\"department\\\": \\\"Production\\\", \\\"gender\\\": 2, \\\"id\\\": 7626, \\\"job\\\": \\\"Producer\\\", \\\"name\\\": \\\"Avi Arad\\\"}, {\\\"credit_id\\\": \\\"5767101092514165c20000db\\\", \\\"department\\\": \\\"Production\\\", \\\"gender\\\": 2, \\\"id\\\": 10850, \\\"job\\\": \\\"Executive Producer\\\", \\\"name\\\": \\\"Kevin Feige\\\"}, {\\\"credit_id\\\": \\\"538d83ba0e0a26670b005ded\\\", \\\"department\\\": \\\"Costume & Make-Up\\\", \\\"gender\\\": 1, \\\"id\\\": 10970, \\\"job\\\": \\\"Costume Design\\\", \\\"name\\\": \\\"Judianna Makovsky\\\"}, {\\\"credit_id\\\": \\\"538d83620e0a266715005e82\\\", \\\"department\\\": \\\"Art\\\", \\\"gender\\\": 2, \\\"id\\\": 10549, \\\"job\\\": \\\"Art Direction\\\", \\\"name\\\": \\\"Justin Scoppa Jr.\\\"}, {\\\"credit_id\\\": \\\"5626465bc3a3680e0e01704b\\\", \\\"department\\\": \\\"Sound\\\", \\\"gender\\\": 2, \\\"id\\\": 11098, \\\"job\\\": \\\"Original Music Composer\\\", \\\"name\\\": \\\"John Powell\\\"}, {\\\"credit_id\\\": \\\"52fe45ff9251416c910459e1\\\", \\\"department\\\": \\\"Writing\\\", \\\"gender\\\": 2, \\\"id\\\": 11092, \\\"job\\\": \\\"Screenplay\\\", \\\"name\\\": \\\"Simon Kinberg\\\"}, {\\\"credit_id\\\": \\\"56abe4ecc3a3681c47003aa3\\\", \\\"department\\\": \\\"Crew\\\", \\\"gender\\\": 2, \\\"id\\\": 15017, \\\"job\\\": \\\"Makeup Effects\\\", \\\"name\\\": \\\"Bill Corso\\\"}, {\\\"credit_id\\\": \\\"538d82560e0a266705005f94\\\", \\\"department\\\": \\\"Camera\\\", \\\"gender\\\": 2, \\\"id\\\": 11099, \\\"job\\\": \\\"Director of Photography\\\", \\\"name\\\": \\\"Dante Spinotti\\\"}, {\\\"credit_id\\\": \\\"52fe45ff9251416c910459e7\\\", \\\"department\\\": \\\"Writing\\\", \\\"gender\\\": 2, \\\"id\\\": 11011, \\\"job\\\": \\\"Screenplay\\\", \\\"name\\\": \\\"Zak Penn\\\"}, {\\\"credit_id\\\": \\\"52fe45ff9251416c910459db\\\", \\\"department\\\": \\\"Directing\\\", \\\"gender\\\": 2, \\\"id\\\": 11091, \\\"job\\\": \\\"Director\\\", \\\"name\\\": \\\"Brett Ratner\\\"}, {\\\"credit_id\\\": \\\"538d834f0e0a266712005dfe\\\", \\\"department\\\": \\\"Art\\\", \\\"gender\\\": 1, \\\"id\\\": 22061, \\\"job\\\": \\\"Art Direction\\\", \\\"name\\\": \\\"Helen Jarvis\\\"}, {\\\"credit_id\\\": \\\"538d83a50e0a266715005e8b\\\", \\\"department\\\": \\\"Art\\\", \\\"gender\\\": 1, \\\"id\\\": 11021, \\\"job\\\": \\\"Set Decoration\\\", \\\"name\\\": \\\"Elizabeth Wilcox\\\"}, {\\\"credit_id\\\": \\\"538d83220e0a266702005df6\\\", \\\"department\\\": \\\"Art\\\", \\\"gender\\\": 0, \\\"id\\\": 11102, \\\"job\\\": \\\"Art Direction\\\", \\\"name\\\": \\\"Chad S. Frey\\\"}, {\\\"credit_id\\\": \\\"570b8dde9251412c740020d0\\\", \\\"department\\\": \\\"Art\\\", \\\"gender\\\": 0, \\\"id\\\": 46082, \\\"job\\\": \\\"Supervising Art Director\\\", \\\"name\\\": \\\"Geoff Hubbard\\\"}, {\\\"credit_id\\\": \\\"538d83ce0e0a266702005e02\\\", \\\"department\\\": \\\"Costume & Make-Up\\\", \\\"gender\\\": 2, \\\"id\\\": 11106, \\\"job\\\": \\\"Costume Design\\\", \\\"name\\\": \\\"Lisa Tomczeszyn\\\"}, {\\\"credit_id\\\": \\\"560046499251414e4d000197\\\", \\\"department\\\": \\\"Crew\\\", \\\"gender\\\": 0, \\\"id\\\": 113194, \\\"job\\\": \\\"Stunts\\\", \\\"name\\\": \\\"James Bamford\\\"}, {\\\"credit_id\\\": \\\"538d82990e0a266712005de9\\\", \\\"department\\\": \\\"Editing\\\", \\\"gender\\\": 1, \\\"id\\\": 11100, \\\"job\\\": \\\"Editor\\\", \\\"name\\\": \\\"Julia Wong\\\"}, {\\\"credit_id\\\": \\\"57671042c3a36806b3000104\\\", \\\"department\\\": \\\"Production\\\", \\\"gender\\\": 2, \\\"id\\\": 11095, \\\"job\\\": \\\"Co-Producer\\\", \\\"name\\\": \\\"James M. Freitag\\\"}, {\\\"credit_id\\\": \\\"57670fdbc3a3680722000106\\\", \\\"department\\\": \\\"Production\\\", \\\"gender\\\": 2, \\\"id\\\": 11014, \\\"job\\\": \\\"Co-Producer\\\", \\\"name\\\": \\\"Ross Fanger\\\"}, {\\\"credit_id\\\": \\\"538d83750e0a26670b005de5\\\", \\\"department\\\": \\\"Art\\\", \\\"gender\\\": 0, \\\"id\\\": 223991, \\\"job\\\": \\\"Art Direction\\\", \\\"name\\\": \\\"Sandi Tanaka\\\"}, {\\\"credit_id\\\": \\\"576710f192514133c5001213\\\", \\\"department\\\": \\\"Production\\\", \\\"gender\\\": 0, \\\"id\\\": 1182092, \\\"job\\\": \\\"Executive Producer\\\", \\\"name\\\": \\\"John Palermo\\\"}, {\\\"credit_id\\\": \\\"55402d2fc3a3681da0000633\\\", \\\"department\\\": \\\"Visual Effects\\\", \\\"gender\\\": 0, \\\"id\\\": 1395269, \\\"job\\\": \\\"Visual Effects Supervisor\\\", \\\"name\\\": \\\"John Bruno\\\"}, {\\\"credit_id\\\": \\\"563a9ed79251416d520145a0\\\", \\\"department\\\": \\\"Crew\\\", \\\"gender\\\": 0, \\\"id\\\": 1401803, \\\"job\\\": \\\"Digital Effects Supervisor\\\", \\\"name\\\": \\\"Guy Williams\\\"}, {\\\"credit_id\\\": \\\"5767112fc3a3680722000132\\\", \\\"department\\\": \\\"Production\\\", \\\"gender\\\": 0, \\\"id\\\": 1432021, \\\"job\\\": \\\"Co-Producer\\\", \\\"name\\\": \\\"Kurt Williams\\\"}, {\\\"credit_id\\\": \\\"55423048c3a36829e5003bc8\\\", \\\"department\\\": \\\"Crew\\\", \\\"gender\\\": 0, \\\"id\\\": 1447557, \\\"job\\\": \\\"Compositors\\\", \\\"name\\\": \\\"Rachel Wyn Dunn\\\"}, {\\\"credit_id\\\": \\\"552986b4c3a368596e001a79\\\", \\\"department\\\": \\\"Visual Effects\\\", \\\"gender\\\": 0, \\\"id\\\": 1452932, \\\"job\\\": \\\"Animation\\\", \\\"name\\\": \\\"Joel Fletcher\\\"}, {\\\"credit_id\\\": \\\"57670f92925141655a000109\\\", \\\"department\\\": \\\"Production\\\", \\\"gender\\\": 0, \\\"id\\\": 1477146, \\\"job\\\": \\\"Co-Producer\\\", \\\"name\\\": \\\"Lee Cleary\\\"}, {\\\"credit_id\\\": \\\"5767107c925141655a00012c\\\", \\\"department\\\": \\\"Production\\\", \\\"gender\\\": 0, \\\"id\\\": 1477147, \\\"job\\\": \\\"Associate Producer\\\", \\\"name\\\": \\\"David Gorder\\\"}, {\\\"credit_id\\\": \\\"5767105bc3a36850c4000573\\\", \\\"department\\\": \\\"Production\\\", \\\"gender\\\": 2, \\\"id\\\": 1477203, \\\"job\\\": \\\"Associate Producer\\\", \\\"name\\\": \\\"Luca Marco Paracels\\\"}]\",\n          \"[{\\\"credit_id\\\": \\\"58dd0e90c3a368223e00b59c\\\", \\\"department\\\": \\\"Production\\\", \\\"gender\\\": 1, \\\"id\\\": 546, \\\"job\\\": \\\"Casting\\\", \\\"name\\\": \\\"Jeanne McCarthy\\\"}, {\\\"credit_id\\\": \\\"52fe43bb9251416c7501bf83\\\", \\\"department\\\": \\\"Production\\\", \\\"gender\\\": 2, \\\"id\\\": 2043, \\\"job\\\": \\\"Producer\\\", \\\"name\\\": \\\"John Davis\\\"}, {\\\"credit_id\\\": \\\"5539fe35c3a3685cf8002f1e\\\", \\\"department\\\": \\\"Sound\\\", \\\"gender\\\": 2, \\\"id\\\": 3393, \\\"job\\\": \\\"Original Music Composer\\\", \\\"name\\\": \\\"David Newman\\\"}, {\\\"credit_id\\\": \\\"58dd0d3fc3a368228a00aa50\\\", \\\"department\\\": \\\"Production\\\", \\\"gender\\\": 0, \\\"id\\\": 6187, \\\"job\\\": \\\"Associate Producer\\\", \\\"name\\\": \\\"Aldric La'Auli Porter\\\"}, {\\\"credit_id\\\": \\\"5990427f925141672302ba00\\\", \\\"department\\\": \\\"Directing\\\", \\\"gender\\\": 0, \\\"id\\\": 6187, \\\"job\\\": \\\"First Assistant Director\\\", \\\"name\\\": \\\"Aldric La'Auli Porter\\\"}, {\\\"credit_id\\\": \\\"58dd0efdc3a368228300b438\\\", \\\"department\\\": \\\"Art\\\", \\\"gender\\\": 2, \\\"id\\\": 6877, \\\"job\\\": \\\"Production Design\\\", \\\"name\\\": \\\"William Sandell\\\"}, {\\\"credit_id\\\": \\\"58dd0f56925141411000c340\\\", \\\"department\\\": \\\"Art\\\", \\\"gender\\\": 2, \\\"id\\\": 6880, \\\"job\\\": \\\"Set Decoration\\\", \\\"name\\\": \\\"Robert Gould\\\"}, {\\\"credit_id\\\": \\\"58dd0f1fc3a36822a600c1dd\\\", \\\"department\\\": \\\"Art\\\", \\\"gender\\\": 2, \\\"id\\\": 8705, \\\"job\\\": \\\"Art Direction\\\", \\\"name\\\": \\\"Brad Ricker\\\"}, {\\\"credit_id\\\": \\\"5990490b925141673e02d2f5\\\", \\\"department\\\": \\\"Sound\\\", \\\"gender\\\": 0, \\\"id\\\": 8763, \\\"job\\\": \\\"Foley Editor\\\", \\\"name\\\": \\\"Dan Yale\\\"}, {\\\"credit_id\\\": \\\"58dd0d3192514140f600b915\\\", \\\"department\\\": \\\"Production\\\", \\\"gender\\\": 2, \\\"id\\\": 8880, \\\"job\\\": \\\"Executive Producer\\\", \\\"name\\\": \\\"Neil A. Machlis\\\"}, {\\\"credit_id\\\": \\\"58dd0e0bc3a368229300bdf6\\\", \\\"department\\\": \\\"Production\\\", \\\"gender\\\": 1, \\\"id\\\": 14377, \\\"job\\\": \\\"Casting\\\", \\\"name\\\": \\\"Juel Bestrop\\\"}, {\\\"credit_id\\\": \\\"599045b6925141672302bdac\\\", \\\"department\\\": \\\"Art\\\", \\\"gender\\\": 0, \\\"id\\\": 12639, \\\"job\\\": \\\"Set Designer\\\", \\\"name\\\": \\\"Hugo Santiago\\\"}, {\\\"credit_id\\\": \\\"58dd0f69c3a368228300b48f\\\", \\\"department\\\": \\\"Costume & Make-Up\\\", \\\"gender\\\": 1, \\\"id\\\": 15524, \\\"job\\\": \\\"Costume Design\\\", \\\"name\\\": \\\"Ruth E. Carter\\\"}, {\\\"credit_id\\\": \\\"52fe43bb9251416c7501bf9b\\\", \\\"department\\\": \\\"Editing\\\", \\\"gender\\\": 2, \\\"id\\\": 18276, \\\"job\\\": \\\"Editor\\\", \\\"name\\\": \\\"Craig Herring\\\"}, {\\\"credit_id\\\": \\\"58dd0f2f92514140fa00c653\\\", \\\"department\\\": \\\"Art\\\", \\\"gender\\\": 2, \\\"id\\\": 13434, \\\"job\\\": \\\"Supervising Art Director\\\", \\\"name\\\": \\\"Bruce Crone\\\"}, {\\\"credit_id\\\": \\\"59904bcdc3a368744202b9fb\\\", \\\"department\\\": \\\"Visual Effects\\\", \\\"gender\\\": 0, \\\"id\\\": 27100, \\\"job\\\": \\\"Visual Effects Supervisor\\\", \\\"name\\\": \\\"Douglas Smith\\\"}, {\\\"credit_id\\\": \\\"52fe43bb9251416c7501bf7d\\\", \\\"department\\\": \\\"Writing\\\", \\\"gender\\\": 2, \\\"id\\\": 31026, \\\"job\\\": \\\"Screenplay\\\", \\\"name\\\": \\\"Larry Levin\\\"}, {\\\"credit_id\\\": \\\"58dd0c8592514140fa00c441\\\", \\\"department\\\": \\\"Production\\\", \\\"gender\\\": 1, \\\"id\\\": 49907, \\\"job\\\": \\\"Co-Producer\\\", \\\"name\\\": \\\"Michele Imperato\\\"}, {\\\"credit_id\\\": \\\"58dd0fb0c3a368227300bfad\\\", \\\"department\\\": \\\"Production\\\", \\\"gender\\\": 1, \\\"id\\\": 49907, \\\"job\\\": \\\"Unit Production Manager\\\", \\\"name\\\": \\\"Michele Imperato\\\"}, {\\\"credit_id\\\": \\\"52fe43bb9251416c7501bfb1\\\", \\\"department\\\": \\\"Directing\\\", \\\"gender\\\": 2, \\\"id\\\": 52112, \\\"job\\\": \\\"Director\\\", \\\"name\\\": \\\"Steve Carr\\\"}, {\\\"credit_id\\\": \\\"5990471cc3a36874a302bbdc\\\", \\\"department\\\": \\\"Sound\\\", \\\"gender\\\": 2, \\\"id\\\": 52193, \\\"job\\\": \\\"Dialogue Editor\\\", \\\"name\\\": \\\"R.J. Kizer\\\"}, {\\\"credit_id\\\": \\\"52fe43bb9251416c7501bf95\\\", \\\"department\\\": \\\"Camera\\\", \\\"gender\\\": 2, \\\"id\\\": 56324, \\\"job\\\": \\\"Director of Photography\\\", \\\"name\\\": \\\"Daryn Okada\\\"}, {\\\"credit_id\\\": \\\"52fe43bb9251416c7501bf89\\\", \\\"department\\\": \\\"Production\\\", \\\"gender\\\": 2, \\\"id\\\": 56053, \\\"job\\\": \\\"Producer\\\", \\\"name\\\": \\\"Joseph Singer\\\"}, {\\\"credit_id\\\": \\\"59904a06925141676602b701\\\", \\\"department\\\": \\\"Crew\\\", \\\"gender\\\": 2, \\\"id\\\": 57769, \\\"job\\\": \\\"Visual Effects Editor\\\", \\\"name\\\": \\\"Peter S. Elliot\\\"}, {\\\"credit_id\\\": \\\"58dd0d4c92514140fa00c4da\\\", \\\"department\\\": \\\"Production\\\", \\\"gender\\\": 1, \\\"id\\\": 66921, \\\"job\\\": \\\"Co-Producer\\\", \\\"name\\\": \\\"Heidi Santelli\\\"}, {\\\"credit_id\\\": \\\"59905155c3a36874b402a906\\\", \\\"department\\\": \\\"Sound\\\", \\\"gender\\\": 0, \\\"id\\\": 91324, \\\"job\\\": \\\"Music Editor\\\", \\\"name\\\": \\\"Tom Villano\\\"}, {\\\"credit_id\\\": \\\"5990424a925141676602adf3\\\", \\\"department\\\": \\\"Costume & Make-Up\\\", \\\"gender\\\": 0, \\\"id\\\": 168214, \\\"job\\\": \\\"Makeup Artist\\\", \\\"name\\\": \\\"Judy Murdock\\\"}, {\\\"credit_id\\\": \\\"59904eae925141673e02da30\\\", \\\"department\\\": \\\"Camera\\\", \\\"gender\\\": 2, \\\"id\\\": 555085, \\\"job\\\": \\\"Still Photographer\\\", \\\"name\\\": \\\"Bruce McBroom\\\"}, {\\\"credit_id\\\": \\\"599041d0c3a36874a302b5e9\\\", \\\"department\\\": \\\"Costume & Make-Up\\\", \\\"gender\\\": 0, \\\"id\\\": 1015965, \\\"job\\\": \\\"Makeup Department Head\\\", \\\"name\\\": \\\"Kris Evans\\\"}, {\\\"credit_id\\\": \\\"58dd11a2c3a368227300c14b\\\", \\\"department\\\": \\\"Production\\\", \\\"gender\\\": 0, \\\"id\\\": 1113659, \\\"job\\\": \\\"Location Manager\\\", \\\"name\\\": \\\"Iddo Lampton Enochs Jr.\\\"}, {\\\"credit_id\\\": \\\"59904b71925141675f02b7e7\\\", \\\"department\\\": \\\"Crew\\\", \\\"gender\\\": 0, \\\"id\\\": 1178615, \\\"job\\\": \\\"CG Supervisor\\\", \\\"name\\\": \\\"Liz Radley\\\"}, {\\\"credit_id\\\": \\\"59904fe5c3a368744202bf0c\\\", \\\"department\\\": \\\"Costume & Make-Up\\\", \\\"gender\\\": 0, \\\"id\\\": 1319193, \\\"job\\\": \\\"Costume Supervisor\\\", \\\"name\\\": \\\"Donna Marcione Pollack\\\"}, {\\\"credit_id\\\": \\\"599044c4925141672302bc97\\\", \\\"department\\\": \\\"Art\\\", \\\"gender\\\": 0, \\\"id\\\": 1364403, \\\"job\\\": \\\"Greensman\\\", \\\"name\\\": \\\"Frank McEldowney\\\"}, {\\\"credit_id\\\": \\\"59904694925141673e02cfd2\\\", \\\"department\\\": \\\"Sound\\\", \\\"gender\\\": 0, \\\"id\\\": 1367505, \\\"job\\\": \\\"Dialogue Editor\\\", \\\"name\\\": \\\"Ted Caplan\\\"}, {\\\"credit_id\\\": \\\"5990439d925141675902ac1b\\\", \\\"department\\\": \\\"Art\\\", \\\"gender\\\": 0, \\\"id\\\": 1377216, \\\"job\\\": \\\"Art Department Coordinator\\\", \\\"name\\\": \\\"Gerald Lehtola\\\"}, {\\\"credit_id\\\": \\\"599045fb925141675f02b16c\\\", \\\"department\\\": \\\"Art\\\", \\\"gender\\\": 0, \\\"id\\\": 1378165, \\\"job\\\": \\\"Property Master\\\", \\\"name\\\": \\\"Mark Wade\\\"}, {\\\"credit_id\\\": \\\"58dd0fd0c3a368228a00abfb\\\", \\\"department\\\": \\\"Art\\\", \\\"gender\\\": 1, \\\"id\\\": 1378749, \\\"job\\\": \\\"Set Designer\\\", \\\"name\\\": \\\"Patricia Klawonn\\\"}, {\\\"credit_id\\\": \\\"58dd1023c3a368227300c025\\\", \\\"department\\\": \\\"Art\\\", \\\"gender\\\": 0, \\\"id\\\": 1389585, \\\"job\\\": \\\"Set Designer\\\", \\\"name\\\": \\\"Bill Taliaferro\\\"}, {\\\"credit_id\\\": \\\"59904785c3a3687493029126\\\", \\\"department\\\": \\\"Sound\\\", \\\"gender\\\": 0, \\\"id\\\": 1390527, \\\"job\\\": \\\"Sound Effects Editor\\\", \\\"name\\\": \\\"Dave Kulczycki\\\"}, {\\\"credit_id\\\": \\\"59905010925141675f02bd38\\\", \\\"department\\\": \\\"Costume & Make-Up\\\", \\\"gender\\\": 0, \\\"id\\\": 1399322, \\\"job\\\": \\\"Set Costumer\\\", \\\"name\\\": \\\"Elizabeth Frank\\\"}, {\\\"credit_id\\\": \\\"59904d81925141670b02cf99\\\", \\\"department\\\": \\\"Camera\\\", \\\"gender\\\": 2, \\\"id\\\": 1400374, \\\"job\\\": \\\"Camera Operator\\\", \\\"name\\\": \\\"Casey Hotchkiss\\\"}, {\\\"credit_id\\\": \\\"599046d2c3a3687493029074\\\", \\\"department\\\": \\\"Sound\\\", \\\"gender\\\": 0, \\\"id\\\": 1404841, \\\"job\\\": \\\"ADR Editor\\\", \\\"name\\\": \\\"Zack Davis\\\"}, {\\\"credit_id\\\": \\\"59904214c3a368746102979f\\\", \\\"department\\\": \\\"Costume & Make-Up\\\", \\\"gender\\\": 0, \\\"id\\\": 1408278, \\\"job\\\": \\\"Hair Department Head\\\", \\\"name\\\": \\\"Erma Kent\\\"}, {\\\"credit_id\\\": \\\"599048b2925141670b02c97f\\\", \\\"department\\\": \\\"Sound\\\", \\\"gender\\\": 0, \\\"id\\\": 1416153, \\\"job\\\": \\\"Supervising Sound Editor\\\", \\\"name\\\": \\\"Donald Sylvester\\\"}, {\\\"credit_id\\\": \\\"59904ad6c3a36874b402a1cc\\\", \\\"department\\\": \\\"Visual Effects\\\", \\\"gender\\\": 0, \\\"id\\\": 1416167, \\\"job\\\": \\\"Visual Effects Producer\\\", \\\"name\\\": \\\"John Kilkenny\\\"}, {\\\"credit_id\\\": \\\"56ae7d849251416357002915\\\", \\\"department\\\": \\\"Costume & Make-Up\\\", \\\"gender\\\": 1, \\\"id\\\": 1424894, \\\"job\\\": \\\"Hairstylist\\\", \\\"name\\\": \\\"Camille Friend\\\"}, {\\\"credit_id\\\": \\\"599047ab925141674c02b48e\\\", \\\"department\\\": \\\"Sound\\\", \\\"gender\\\": 0, \\\"id\\\": 1425343, \\\"job\\\": \\\"ADR Editor\\\", \\\"name\\\": \\\"Vanessa Lapato\\\"}, {\\\"credit_id\\\": \\\"59904951925141673902ae4e\\\", \\\"department\\\": \\\"Crew\\\", \\\"gender\\\": 0, \\\"id\\\": 1442509, \\\"job\\\": \\\"Special Effects Coordinator\\\", \\\"name\\\": \\\"Alan E. Lorimer\\\"}, {\\\"credit_id\\\": \\\"59904427925141675902acc6\\\", \\\"department\\\": \\\"Art\\\", \\\"gender\\\": 0, \\\"id\\\": 1451398, \\\"job\\\": \\\"Greensman\\\", \\\"name\\\": \\\"Bryan McBrien\\\"}, {\\\"credit_id\\\": \\\"59904629c3a368744202b2d6\\\", \\\"department\\\": \\\"Art\\\", \\\"gender\\\": 0, \\\"id\\\": 1453276, \\\"job\\\": \\\"Construction Coordinator\\\", \\\"name\\\": \\\"Butch West\\\"}, {\\\"credit_id\\\": \\\"599034bcc3a3687493027d17\\\", \\\"department\\\": \\\"Crew\\\", \\\"gender\\\": 2, \\\"id\\\": 1454647, \\\"job\\\": \\\"Creator\\\", \\\"name\\\": \\\"Hugh Lofting\\\"}, {\\\"credit_id\\\": \\\"58dd11f1c3a36822ae00bc75\\\", \\\"department\\\": \\\"Directing\\\", \\\"gender\\\": 1, \\\"id\\\": 1457729, \\\"job\\\": \\\"Script Supervisor\\\", \\\"name\\\": \\\"Nancy Karlin\\\"}, {\\\"credit_id\\\": \\\"59904a8d925141675f02b6d8\\\", \\\"department\\\": \\\"Visual Effects\\\", \\\"gender\\\": 0, \\\"id\\\": 1496418, \\\"job\\\": \\\"Visual Effects Coordinator\\\", \\\"name\\\": \\\"Mitchell Ferm\\\"}, {\\\"credit_id\\\": \\\"599050e6925141674c02beef\\\", \\\"department\\\": \\\"Sound\\\", \\\"gender\\\": 2, \\\"id\\\": 1550058, \\\"job\\\": \\\"Music Editor\\\", \\\"name\\\": \\\"Jim Harrison\\\"}, {\\\"credit_id\\\": \\\"58dd11b0c3a368223e00b7db\\\", \\\"department\\\": \\\"Art\\\", \\\"gender\\\": 0, \\\"id\\\": 1585159, \\\"job\\\": \\\"Location Scout\\\", \\\"name\\\": \\\"Jasan Sherman\\\"}, {\\\"credit_id\\\": \\\"5990453a925141673902a8ec\\\", \\\"department\\\": \\\"Art\\\", \\\"gender\\\": 0, \\\"id\\\": 1586888, \\\"job\\\": \\\"Sculptor\\\", \\\"name\\\": \\\"Thomas Meikle\\\"}, {\\\"credit_id\\\": \\\"5990506dc3a368747302c6e3\\\", \\\"department\\\": \\\"Sound\\\", \\\"gender\\\": 0, \\\"id\\\": 1587383, \\\"job\\\": \\\"Music Supervisor\\\", \\\"name\\\": \\\"Spring Aspers\\\"}, {\\\"credit_id\\\": \\\"59904fbb925141672302c9ed\\\", \\\"department\\\": \\\"Costume & Make-Up\\\", \\\"gender\\\": 0, \\\"id\\\": 1610228, \\\"job\\\": \\\"Key Costumer\\\", \\\"name\\\": \\\"Craig Anthony\\\"}, {\\\"credit_id\\\": \\\"599047e3925141674c02b4cf\\\", \\\"department\\\": \\\"Sound\\\", \\\"gender\\\": 2, \\\"id\\\": 1737829, \\\"job\\\": \\\"Boom Operator\\\", \\\"name\\\": \\\"Harrison D. Marsh\\\"}, {\\\"credit_id\\\": \\\"58dd10b2c3a368228300b588\\\", \\\"department\\\": \\\"Production\\\", \\\"gender\\\": 1, \\\"id\\\": 1763970, \\\"job\\\": \\\"Casting Assistant\\\", \\\"name\\\": \\\"Nadia Lubbe Simon\\\"}, {\\\"credit_id\\\": \\\"58dd1052925141413c00beac\\\", \\\"department\\\": \\\"Production\\\", \\\"gender\\\": 1, \\\"id\\\": 1786614, \\\"job\\\": \\\"Casting Associate\\\", \\\"name\\\": \\\"Diana Jaher\\\"}, {\\\"credit_id\\\": \\\"58dd11d5c3a368229d00b6a0\\\", \\\"department\\\": \\\"Production\\\", \\\"gender\\\": 0, \\\"id\\\": 1786616, \\\"job\\\": \\\"Location Manager\\\", \\\"name\\\": \\\"Craig W. van Gundy\\\"}, {\\\"credit_id\\\": \\\"58dd1254c3a368227300c1e6\\\", \\\"department\\\": \\\"Production\\\", \\\"gender\\\": 1, \\\"id\\\": 1786618, \\\"job\\\": \\\"Production Coordinator\\\", \\\"name\\\": \\\"Kris Fullan Martinez\\\"}, {\\\"credit_id\\\": \\\"599042f4c3a368744202aefa\\\", \\\"department\\\": \\\"Art\\\", \\\"gender\\\": 0, \\\"id\\\": 1868861, \\\"job\\\": \\\"Painter\\\", \\\"name\\\": \\\"Joe A. Hawthorne\\\"}, {\\\"credit_id\\\": \\\"5990448e925141675f02afa7\\\", \\\"department\\\": \\\"Crew\\\", \\\"gender\\\": 0, \\\"id\\\": 1868865, \\\"job\\\": \\\"Propmaker\\\", \\\"name\\\": \\\"Robert McDonald\\\"}, {\\\"credit_id\\\": \\\"59904571925141670b02c572\\\", \\\"department\\\": \\\"Crew\\\", \\\"gender\\\": 0, \\\"id\\\": 1868867, \\\"job\\\": \\\"Propmaker\\\", \\\"name\\\": \\\"Robert Prchal\\\"}, {\\\"credit_id\\\": \\\"599045da925141673902a9d7\\\", \\\"department\\\": \\\"Crew\\\", \\\"gender\\\": 0, \\\"id\\\": 1868868, \\\"job\\\": \\\"Propmaker\\\", \\\"name\\\": \\\"Hal Schlax\\\"}, {\\\"credit_id\\\": \\\"59904c34925141675f02b8bc\\\", \\\"department\\\": \\\"Crew\\\", \\\"gender\\\": 2, \\\"id\\\": 1868877, \\\"job\\\": \\\"Stunt Coordinator\\\", \\\"name\\\": \\\"John Molo\\\"}, {\\\"credit_id\\\": \\\"59904cac925141673e02d7a8\\\", \\\"department\\\": \\\"Camera\\\", \\\"gender\\\": 0, \\\"id\\\": 1868878, \\\"job\\\": \\\"Camera Operator\\\", \\\"name\\\": \\\"Todd Dos Reis\\\"}, {\\\"credit_id\\\": \\\"59904d04925141676602ba9a\\\", \\\"department\\\": \\\"Camera\\\", \\\"gender\\\": 0, \\\"id\\\": 1868879, \\\"job\\\": \\\"Dolly Grip\\\", \\\"name\\\": \\\"Jason D. Hodges\\\"}, {\\\"credit_id\\\": \\\"59904d3bc3a36874b402a4b0\\\", \\\"department\\\": \\\"Camera\\\", \\\"gender\\\": 0, \\\"id\\\": 1868880, \\\"job\\\": \\\"Key Grip\\\", \\\"name\\\": \\\"Mike Hodges\\\"}, {\\\"credit_id\\\": \\\"59904df0925141672302c7da\\\", \\\"department\\\": \\\"Lighting\\\", \\\"gender\\\": 0, \\\"id\\\": 1868881, \\\"job\\\": \\\"Gaffer\\\", \\\"name\\\": \\\"Kal Manning\\\"}, {\\\"credit_id\\\": \\\"59904ede925141675f02bbe6\\\", \\\"department\\\": \\\"Camera\\\", \\\"gender\\\": 0, \\\"id\\\": 1868889, \\\"job\\\": \\\"Dolly Grip\\\", \\\"name\\\": \\\"Larry McCarron\\\"}, {\\\"credit_id\\\": \\\"59905109925141673e02dcde\\\", \\\"department\\\": \\\"Sound\\\", \\\"gender\\\": 0, \\\"id\\\": 1868892, \\\"job\\\": \\\"Music Editor\\\", \\\"name\\\": \\\"Kim Strand\\\"}]\",\n          \"[{\\\"credit_id\\\": \\\"535c348b0e0a264fe1001e9f\\\", \\\"department\\\": \\\"Directing\\\", \\\"gender\\\": 0, \\\"id\\\": 1314011, \\\"job\\\": \\\"Director\\\", \\\"name\\\": \\\"Nathan Smith Jones\\\"}]\"\n        ],\n        \"semantic_type\": \"\",\n        \"description\": \"\"\n      }\n    }\n  ]\n}"
            }
          },
          "metadata": {},
          "execution_count": 10
        }
      ]
    },
    {
      "cell_type": "code",
      "source": [
        "film.iloc[0].genres"
      ],
      "metadata": {
        "colab": {
          "base_uri": "https://localhost:8080/",
          "height": 36
        },
        "id": "Bj-rHe1ljtsR",
        "outputId": "d6e72feb-83e0-4e72-b440-9dc108b00811"
      },
      "execution_count": 11,
      "outputs": [
        {
          "output_type": "execute_result",
          "data": {
            "text/plain": [
              "'[{\"id\": 28, \"name\": \"Action\"}, {\"id\": 12, \"name\": \"Adventure\"}, {\"id\": 14, \"name\": \"Fantasy\"}, {\"id\": 878, \"name\": \"Science Fiction\"}]'"
            ],
            "application/vnd.google.colaboratory.intrinsic+json": {
              "type": "string"
            }
          },
          "metadata": {},
          "execution_count": 11
        }
      ]
    },
    {
      "cell_type": "code",
      "source": [
        "film.genres[0]"
      ],
      "metadata": {
        "colab": {
          "base_uri": "https://localhost:8080/",
          "height": 36
        },
        "id": "vdEim9Auj0vm",
        "outputId": "1482633f-5e34-40f3-ab5a-4608942238c7"
      },
      "execution_count": 12,
      "outputs": [
        {
          "output_type": "execute_result",
          "data": {
            "text/plain": [
              "'[{\"id\": 28, \"name\": \"Action\"}, {\"id\": 12, \"name\": \"Adventure\"}, {\"id\": 14, \"name\": \"Fantasy\"}, {\"id\": 878, \"name\": \"Science Fiction\"}]'"
            ],
            "application/vnd.google.colaboratory.intrinsic+json": {
              "type": "string"
            }
          },
          "metadata": {},
          "execution_count": 12
        }
      ]
    },
    {
      "cell_type": "code",
      "source": [
        "import ast\n",
        "def convert(obj):\n",
        "  l=[]\n",
        "  for i in ast.literal_eval(obj):\n",
        "     l.append(i['name'])\n",
        "  return l\n",
        "film.genres = film['genres'].apply(convert)"
      ],
      "metadata": {
        "id": "h2x2JCA_kFzx"
      },
      "execution_count": 13,
      "outputs": []
    },
    {
      "cell_type": "code",
      "source": [
        "film.keywords = film['keywords'].apply(convert)"
      ],
      "metadata": {
        "id": "vJF3XcuBlc_S"
      },
      "execution_count": 14,
      "outputs": []
    },
    {
      "cell_type": "code",
      "source": [
        "film.cast[0]"
      ],
      "metadata": {
        "colab": {
          "base_uri": "https://localhost:8080/",
          "height": 123
        },
        "id": "Ooh-w5mol-Vw",
        "outputId": "8c343c9e-8bad-4879-c838-ebed6c64e0fd"
      },
      "execution_count": 15,
      "outputs": [
        {
          "output_type": "execute_result",
          "data": {
            "text/plain": [
              "'[{\"cast_id\": 242, \"character\": \"Jake Sully\", \"credit_id\": \"5602a8a7c3a3685532001c9a\", \"gender\": 2, \"id\": 65731, \"name\": \"Sam Worthington\", \"order\": 0}, {\"cast_id\": 3, \"character\": \"Neytiri\", \"credit_id\": \"52fe48009251416c750ac9cb\", \"gender\": 1, \"id\": 8691, \"name\": \"Zoe Saldana\", \"order\": 1}, {\"cast_id\": 25, \"character\": \"Dr. Grace Augustine\", \"credit_id\": \"52fe48009251416c750aca39\", \"gender\": 1, \"id\": 10205, \"name\": \"Sigourney Weaver\", \"order\": 2}, {\"cast_id\": 4, \"character\": \"Col. Quaritch\", \"credit_id\": \"52fe48009251416c750ac9cf\", \"gender\": 2, \"id\": 32747, \"name\": \"Stephen Lang\", \"order\": 3}, {\"cast_id\": 5, \"character\": \"Trudy Chacon\", \"credit_id\": \"52fe48009251416c750ac9d3\", \"gender\": 1, \"id\": 17647, \"name\": \"Michelle Rodriguez\", \"order\": 4}, {\"cast_id\": 8, \"character\": \"Selfridge\", \"credit_id\": \"52fe48009251416c750ac9e1\", \"gender\": 2, \"id\": 1771, \"name\": \"Giovanni Ribisi\", \"order\": 5}, {\"cast_id\": 7, \"character\": \"Norm Spellman\", \"credit_id\": \"52fe48009251416c750ac9dd\", \"gender\": 2, \"id\": 59231, \"name\": \"Joel David Moore\", \"order\": 6}, {\"cast_id\": 9, \"character\": \"Moat\", \"credit_id\": \"52fe48009251416c750ac9e5\", \"gender\": 1, \"id\": 30485, \"name\": \"CCH Pounder\", \"order\": 7}, {\"cast_id\": 11, \"character\": \"Eytukan\", \"credit_id\": \"52fe48009251416c750ac9ed\", \"gender\": 2, \"id\": 15853, \"name\": \"Wes Studi\", \"order\": 8}, {\"cast_id\": 10, \"character\": \"Tsu\\'Tey\", \"credit_id\": \"52fe48009251416c750ac9e9\", \"gender\": 2, \"id\": 10964, \"name\": \"Laz Alonso\", \"order\": 9}, {\"cast_id\": 12, \"character\": \"Dr. Max Patel\", \"credit_id\": \"52fe48009251416c750ac9f1\", \"gender\": 2, \"id\": 95697, \"name\": \"Dileep Rao\", \"order\": 10}, {\"cast_id\": 13, \"character\": \"Lyle Wainfleet\", \"credit_id\": \"52fe48009251416c750ac9f5\", \"gender\": 2, \"id\": 98215, \"name\": \"Matt Gerald\", \"order\": 11}, {\"cast_id\": 32, \"character\": \"Private Fike\", \"credit_id\": \"52fe48009251416c750aca5b\", \"gender\": 2, \"id\": 154153, \"name\": \"Sean Anthony Moran\", \"order\": 12}, {\"cast_id\": 33, \"character\": \"Cryo Vault Med Tech\", \"credit_id\": \"52fe48009251416c750aca5f\", \"gender\": 2, \"id\": 397312, \"name\": \"Jason Whyte\", \"order\": 13}, {\"cast_id\": 34, \"character\": \"Venture Star Crew Chief\", \"credit_id\": \"52fe48009251416c750aca63\", \"gender\": 2, \"id\": 42317, \"name\": \"Scott Lawrence\", \"order\": 14}, {\"cast_id\": 35, \"character\": \"Lock Up Trooper\", \"credit_id\": \"52fe48009251416c750aca67\", \"gender\": 2, \"id\": 986734, \"name\": \"Kelly Kilgour\", \"order\": 15}, {\"cast_id\": 36, \"character\": \"Shuttle Pilot\", \"credit_id\": \"52fe48009251416c750aca6b\", \"gender\": 0, \"id\": 1207227, \"name\": \"James Patrick Pitt\", \"order\": 16}, {\"cast_id\": 37, \"character\": \"Shuttle Co-Pilot\", \"credit_id\": \"52fe48009251416c750aca6f\", \"gender\": 0, \"id\": 1180936, \"name\": \"Sean Patrick Murphy\", \"order\": 17}, {\"cast_id\": 38, \"character\": \"Shuttle Crew Chief\", \"credit_id\": \"52fe48009251416c750aca73\", \"gender\": 2, \"id\": 1019578, \"name\": \"Peter Dillon\", \"order\": 18}, {\"cast_id\": 39, \"character\": \"Tractor Operator / Troupe\", \"credit_id\": \"52fe48009251416c750aca77\", \"gender\": 0, \"id\": 91443, \"name\": \"Kevin Dorman\", \"order\": 19}, {\"cast_id\": 40, \"character\": \"Dragon Gunship Pilot\", \"credit_id\": \"52fe48009251416c750aca7b\", \"gender\": 2, \"id\": 173391, \"name\": \"Kelson Henderson\", \"order\": 20}, {\"cast_id\": 41, \"character\": \"Dragon Gunship Gunner\", \"credit_id\": \"52fe48009251416c750aca7f\", \"gender\": 0, \"id\": 1207236, \"name\": \"David Van Horn\", \"order\": 21}, {\"cast_id\": 42, \"character\": \"Dragon Gunship Navigator\", \"credit_id\": \"52fe48009251416c750aca83\", \"gender\": 0, \"id\": 215913, \"name\": \"Jacob Tomuri\", \"order\": 22}, {\"cast_id\": 43, \"character\": \"Suit #1\", \"credit_id\": \"52fe48009251416c750aca87\", \"gender\": 0, \"id\": 143206, \"name\": \"Michael Blain-Rozgay\", \"order\": 23}, {\"cast_id\": 44, \"character\": \"Suit #2\", \"credit_id\": \"52fe48009251416c750aca8b\", \"gender\": 2, \"id\": 169676, \"name\": \"Jon Curry\", \"order\": 24}, {\"cast_id\": 46, \"character\": \"Ambient Room Tech\", \"credit_id\": \"52fe48009251416c750aca8f\", \"gender\": 0, \"id\": 1048610, \"name\": \"Luke Hawker\", \"order\": 25}, {\"cast_id\": 47, \"character\": \"Ambient Room Tech / Troupe\", \"credit_id\": \"52fe48009251416c750aca93\", \"gender\": 0, \"id\": 42288, \"name\": \"Woody Schultz\", \"order\": 26}, {\"cast_id\": 48, \"character\": \"Horse Clan Leader\", \"credit_id\": \"52fe48009251416c750aca97\", \"gender\": 2, \"id\": 68278, \"name\": \"Peter Mensah\", \"order\": 27}, {\"cast_id\": 49, \"character\": \"Link Room Tech\", \"credit_id\": \"52fe48009251416c750aca9b\", \"gender\": 0, \"id\": 1207247, \"name\": \"Sonia Yee\", \"order\": 28}, {\"cast_id\": 50, \"character\": \"Basketball Avatar / Troupe\", \"credit_id\": \"52fe48009251416c750aca9f\", \"gender\": 1, \"id\": 1207248, \"name\": \"Jahnel Curfman\", \"order\": 29}, {\"cast_id\": 51, \"character\": \"Basketball Avatar\", \"credit_id\": \"52fe48009251416c750acaa3\", \"gender\": 0, \"id\": 89714, \"name\": \"Ilram Choi\", \"order\": 30}, {\"cast_id\": 52, \"character\": \"Na\\'vi Child\", \"credit_id\": \"52fe48009251416c750acaa7\", \"gender\": 0, \"id\": 1207249, \"name\": \"Kyla Warren\", \"order\": 31}, {\"cast_id\": 53, \"character\": \"Troupe\", \"credit_id\": \"52fe48009251416c750acaab\", \"gender\": 0, \"id\": 1207250, \"name\": \"Lisa Roumain\", \"order\": 32}, {\"cast_id\": 54, \"character\": \"Troupe\", \"credit_id\": \"52fe48009251416c750acaaf\", \"gender\": 1, \"id\": 83105, \"name\": \"Debra Wilson\", \"order\": 33}, {\"cast_id\": 57, \"character\": \"Troupe\", \"credit_id\": \"52fe48009251416c750acabb\", \"gender\": 0, \"id\": 1207253, \"name\": \"Chris Mala\", \"order\": 34}, {\"cast_id\": 55, \"character\": \"Troupe\", \"credit_id\": \"52fe48009251416c750acab3\", \"gender\": 0, \"id\": 1207251, \"name\": \"Taylor Kibby\", \"order\": 35}, {\"cast_id\": 56, \"character\": \"Troupe\", \"credit_id\": \"52fe48009251416c750acab7\", \"gender\": 0, \"id\": 1207252, \"name\": \"Jodie Landau\", \"order\": 36}, {\"cast_id\": 58, \"character\": \"Troupe\", \"credit_id\": \"52fe48009251416c750acabf\", \"gender\": 0, \"id\": 1207254, \"name\": \"Julie Lamm\", \"order\": 37}, {\"cast_id\": 59, \"character\": \"Troupe\", \"credit_id\": \"52fe48009251416c750acac3\", \"gender\": 0, \"id\": 1207257, \"name\": \"Cullen B. Madden\", \"order\": 38}, {\"cast_id\": 60, \"character\": \"Troupe\", \"credit_id\": \"52fe48009251416c750acac7\", \"gender\": 0, \"id\": 1207259, \"name\": \"Joseph Brady Madden\", \"order\": 39}, {\"cast_id\": 61, \"character\": \"Troupe\", \"credit_id\": \"52fe48009251416c750acacb\", \"gender\": 0, \"id\": 1207262, \"name\": \"Frankie Torres\", \"order\": 40}, {\"cast_id\": 62, \"character\": \"Troupe\", \"credit_id\": \"52fe48009251416c750acacf\", \"gender\": 1, \"id\": 1158600, \"name\": \"Austin Wilson\", \"order\": 41}, {\"cast_id\": 63, \"character\": \"Troupe\", \"credit_id\": \"52fe48019251416c750acad3\", \"gender\": 1, \"id\": 983705, \"name\": \"Sara Wilson\", \"order\": 42}, {\"cast_id\": 64, \"character\": \"Troupe\", \"credit_id\": \"52fe48019251416c750acad7\", \"gender\": 0, \"id\": 1207263, \"name\": \"Tamica Washington-Miller\", \"order\": 43}, {\"cast_id\": 65, \"character\": \"Op Center Staff\", \"credit_id\": \"52fe48019251416c750acadb\", \"gender\": 1, \"id\": 1145098, \"name\": \"Lucy Briant\", \"order\": 44}, {\"cast_id\": 66, \"character\": \"Op Center Staff\", \"credit_id\": \"52fe48019251416c750acadf\", \"gender\": 2, \"id\": 33305, \"name\": \"Nathan Meister\", \"order\": 45}, {\"cast_id\": 67, \"character\": \"Op Center Staff\", \"credit_id\": \"52fe48019251416c750acae3\", \"gender\": 0, \"id\": 1207264, \"name\": \"Gerry Blair\", \"order\": 46}, {\"cast_id\": 68, \"character\": \"Op Center Staff\", \"credit_id\": \"52fe48019251416c750acae7\", \"gender\": 2, \"id\": 33311, \"name\": \"Matthew Chamberlain\", \"order\": 47}, {\"cast_id\": 69, \"character\": \"Op Center Staff\", \"credit_id\": \"52fe48019251416c750acaeb\", \"gender\": 0, \"id\": 1207265, \"name\": \"Paul Yates\", \"order\": 48}, {\"cast_id\": 70, \"character\": \"Op Center Duty Officer\", \"credit_id\": \"52fe48019251416c750acaef\", \"gender\": 0, \"id\": 1207266, \"name\": \"Wray Wilson\", \"order\": 49}, {\"cast_id\": 71, \"character\": \"Op Center Staff\", \"credit_id\": \"52fe48019251416c750acaf3\", \"gender\": 2, \"id\": 54492, \"name\": \"James Gaylyn\", \"order\": 50}, {\"cast_id\": 72, \"character\": \"Dancer\", \"credit_id\": \"52fe48019251416c750acaf7\", \"gender\": 0, \"id\": 1207267, \"name\": \"Melvin Leno Clark III\", \"order\": 51}, {\"cast_id\": 73, \"character\": \"Dancer\", \"credit_id\": \"52fe48019251416c750acafb\", \"gender\": 0, \"id\": 1207268, \"name\": \"Carvon Futrell\", \"order\": 52}, {\"cast_id\": 74, \"character\": \"Dancer\", \"credit_id\": \"52fe48019251416c750acaff\", \"gender\": 0, \"id\": 1207269, \"name\": \"Brandon Jelkes\", \"order\": 53}, {\"cast_id\": 75, \"character\": \"Dancer\", \"credit_id\": \"52fe48019251416c750acb03\", \"gender\": 0, \"id\": 1207270, \"name\": \"Micah Moch\", \"order\": 54}, {\"cast_id\": 76, \"character\": \"Dancer\", \"credit_id\": \"52fe48019251416c750acb07\", \"gender\": 0, \"id\": 1207271, \"name\": \"Hanniyah Muhammad\", \"order\": 55}, {\"cast_id\": 77, \"character\": \"Dancer\", \"credit_id\": \"52fe48019251416c750acb0b\", \"gender\": 0, \"id\": 1207272, \"name\": \"Christopher Nolen\", \"order\": 56}, {\"cast_id\": 78, \"character\": \"Dancer\", \"credit_id\": \"52fe48019251416c750acb0f\", \"gender\": 0, \"id\": 1207273, \"name\": \"Christa Oliver\", \"order\": 57}, {\"cast_id\": 79, \"character\": \"Dancer\", \"credit_id\": \"52fe48019251416c750acb13\", \"gender\": 0, \"id\": 1207274, \"name\": \"April Marie Thomas\", \"order\": 58}, {\"cast_id\": 80, \"character\": \"Dancer\", \"credit_id\": \"52fe48019251416c750acb17\", \"gender\": 0, \"id\": 1207275, \"name\": \"Bravita A. Threatt\", \"order\": 59}, {\"cast_id\": 81, \"character\": \"Mining Chief (uncredited)\", \"credit_id\": \"52fe48019251416c750acb1b\", \"gender\": 0, \"id\": 1207276, \"name\": \"Colin Bleasdale\", \"order\": 60}, {\"cast_id\": 82, \"character\": \"Veteran Miner (uncredited)\", \"credit_id\": \"52fe48019251416c750acb1f\", \"gender\": 0, \"id\": 107969, \"name\": \"Mike Bodnar\", \"order\": 61}, {\"cast_id\": 83, \"character\": \"Richard (uncredited)\", \"credit_id\": \"52fe48019251416c750acb23\", \"gender\": 0, \"id\": 1207278, \"name\": \"Matt Clayton\", \"order\": 62}, {\"cast_id\": 84, \"character\": \"Nav\\'i (uncredited)\", \"credit_id\": \"52fe48019251416c750acb27\", \"gender\": 1, \"id\": 147898, \"name\": \"Nicole Dionne\", \"order\": 63}, {\"cast_id\": 85, \"character\": \"Trooper (uncredited)\", \"credit_id\": \"52fe48019251416c750acb2b\", \"gender\": 0, \"id\": 1207280, \"name\": \"Jamie Harrison\", \"order\": 64}, {\"cast_id\": 86, \"character\": \"Trooper (uncredited)\", \"credit_id\": \"52fe48019251416c750acb2f\", \"gender\": 0, \"id\": 1207281, \"name\": \"Allan Henry\", \"order\": 65}, {\"cast_id\": 87, \"character\": \"Ground Technician (uncredited)\", \"credit_id\": \"52fe48019251416c750acb33\", \"gender\": 2, \"id\": 1207282, \"name\": \"Anthony Ingruber\", \"order\": 66}, {\"cast_id\": 88, \"character\": \"Flight Crew Mechanic (uncredited)\", \"credit_id\": \"52fe48019251416c750acb37\", \"gender\": 0, \"id\": 1207283, \"name\": \"Ashley Jeffery\", \"order\": 67}, {\"cast_id\": 14, \"character\": \"Samson Pilot\", \"credit_id\": \"52fe48009251416c750ac9f9\", \"gender\": 0, \"id\": 98216, \"name\": \"Dean Knowsley\", \"order\": 68}, {\"cast_id\": 89, \"character\": \"Trooper (uncredited)\", \"credit_id\": \"52fe48019251416c750acb3b\", \"gender\": 0, \"id\": 1201399, \"name\": \"Joseph Mika-Hunt\", \"order\": 69}, {\"cast_id\": 90, \"character\": \"Banshee (uncredited)\", \"credit_id\": \"52fe48019251416c750acb3f\", \"gender\": 0, \"id\": 236696, \"name\": \"Terry Notary\", \"order\": 70}, {\"cast_id\": 91, \"character\": \"Soldier (uncredited)\", \"credit_id\": \"52fe48019251416c750acb43\", \"gender\": 0, \"id\": 1207287, \"name\": \"Kai Pantano\", \"order\": 71}, {\"cast_id\": 92, \"character\": \"Blast Technician (uncredited)\", \"credit_id\": \"52fe48019251416c750acb47\", \"gender\": 0, \"id\": 1207288, \"name\": \"Logan Pithyou\", \"order\": 72}, {\"cast_id\": 93, \"character\": \"Vindum Raah (uncredited)\", \"credit_id\": \"52fe48019251416c750acb4b\", \"gender\": 0, \"id\": 1207289, \"name\": \"Stuart Pollock\", \"order\": 73}, {\"cast_id\": 94, \"character\": \"Hero (uncredited)\", \"credit_id\": \"52fe48019251416c750acb4f\", \"gender\": 0, \"id\": 584868, \"name\": \"Raja\", \"order\": 74}, {\"cast_id\": 95, \"character\": \"Ops Centreworker (uncredited)\", \"credit_id\": \"52fe48019251416c750acb53\", \"gender\": 0, \"id\": 1207290, \"name\": \"Gareth Ruck\", \"order\": 75}, {\"cast_id\": 96, \"character\": \"Engineer (uncredited)\", \"credit_id\": \"52fe48019251416c750acb57\", \"gender\": 0, \"id\": 1062463, \"name\": \"Rhian Sheehan\", \"order\": 76}, {\"cast_id\": 97, \"character\": \"Col. Quaritch\\'s Mech Suit (uncredited)\", \"credit_id\": \"52fe48019251416c750acb5b\", \"gender\": 0, \"id\": 60656, \"name\": \"T. J. Storm\", \"order\": 77}, {\"cast_id\": 98, \"character\": \"Female Marine (uncredited)\", \"credit_id\": \"52fe48019251416c750acb5f\", \"gender\": 0, \"id\": 1207291, \"name\": \"Jodie Taylor\", \"order\": 78}, {\"cast_id\": 99, \"character\": \"Ikran Clan Leader (uncredited)\", \"credit_id\": \"52fe48019251416c750acb63\", \"gender\": 1, \"id\": 1186027, \"name\": \"Alicia Vela-Bailey\", \"order\": 79}, {\"cast_id\": 100, \"character\": \"Geologist (uncredited)\", \"credit_id\": \"52fe48019251416c750acb67\", \"gender\": 0, \"id\": 1207292, \"name\": \"Richard Whiteside\", \"order\": 80}, {\"cast_id\": 101, \"character\": \"Na\\'vi (uncredited)\", \"credit_id\": \"52fe48019251416c750acb6b\", \"gender\": 0, \"id\": 103259, \"name\": \"Nikie Zambo\", \"order\": 81}, {\"cast_id\": 102, \"character\": \"Ambient Room Tech / Troupe\", \"credit_id\": \"52fe48019251416c750acb6f\", \"gender\": 1, \"id\": 42286, \"name\": \"Julene Renee\", \"order\": 82}]'"
            ],
            "application/vnd.google.colaboratory.intrinsic+json": {
              "type": "string"
            }
          },
          "metadata": {},
          "execution_count": 15
        }
      ]
    },
    {
      "cell_type": "code",
      "source": [
        "def convert_1(obj):\n",
        "  counter =0\n",
        "  l=[]\n",
        "  for i in ast.literal_eval(obj):\n",
        "    if counter !=3:\n",
        "     l.append(i['name'])\n",
        "     counter+=1\n",
        "    else:\n",
        "      break\n",
        "  return l\n",
        "film.cast = film['cast'].apply(convert_1)"
      ],
      "metadata": {
        "id": "-sxKImj_nhAU"
      },
      "execution_count": 16,
      "outputs": []
    },
    {
      "cell_type": "code",
      "source": [
        "film.crew[0]"
      ],
      "metadata": {
        "colab": {
          "base_uri": "https://localhost:8080/",
          "height": 123
        },
        "id": "7c6Y1gpdn8Kv",
        "outputId": "ca17364d-34d5-4f7c-d22f-fcc5f89af6c4"
      },
      "execution_count": 17,
      "outputs": [
        {
          "output_type": "execute_result",
          "data": {
            "text/plain": [
              "'[{\"credit_id\": \"52fe48009251416c750aca23\", \"department\": \"Editing\", \"gender\": 0, \"id\": 1721, \"job\": \"Editor\", \"name\": \"Stephen E. Rivkin\"}, {\"credit_id\": \"539c47ecc3a36810e3001f87\", \"department\": \"Art\", \"gender\": 2, \"id\": 496, \"job\": \"Production Design\", \"name\": \"Rick Carter\"}, {\"credit_id\": \"54491c89c3a3680fb4001cf7\", \"department\": \"Sound\", \"gender\": 0, \"id\": 900, \"job\": \"Sound Designer\", \"name\": \"Christopher Boyes\"}, {\"credit_id\": \"54491cb70e0a267480001bd0\", \"department\": \"Sound\", \"gender\": 0, \"id\": 900, \"job\": \"Supervising Sound Editor\", \"name\": \"Christopher Boyes\"}, {\"credit_id\": \"539c4a4cc3a36810c9002101\", \"department\": \"Production\", \"gender\": 1, \"id\": 1262, \"job\": \"Casting\", \"name\": \"Mali Finn\"}, {\"credit_id\": \"5544ee3b925141499f0008fc\", \"department\": \"Sound\", \"gender\": 2, \"id\": 1729, \"job\": \"Original Music Composer\", \"name\": \"James Horner\"}, {\"credit_id\": \"52fe48009251416c750ac9c3\", \"department\": \"Directing\", \"gender\": 2, \"id\": 2710, \"job\": \"Director\", \"name\": \"James Cameron\"}, {\"credit_id\": \"52fe48009251416c750ac9d9\", \"department\": \"Writing\", \"gender\": 2, \"id\": 2710, \"job\": \"Writer\", \"name\": \"James Cameron\"}, {\"credit_id\": \"52fe48009251416c750aca17\", \"department\": \"Editing\", \"gender\": 2, \"id\": 2710, \"job\": \"Editor\", \"name\": \"James Cameron\"}, {\"credit_id\": \"52fe48009251416c750aca29\", \"department\": \"Production\", \"gender\": 2, \"id\": 2710, \"job\": \"Producer\", \"name\": \"James Cameron\"}, {\"credit_id\": \"52fe48009251416c750aca3f\", \"department\": \"Writing\", \"gender\": 2, \"id\": 2710, \"job\": \"Screenplay\", \"name\": \"James Cameron\"}, {\"credit_id\": \"539c4987c3a36810ba0021a4\", \"department\": \"Art\", \"gender\": 2, \"id\": 7236, \"job\": \"Art Direction\", \"name\": \"Andrew Menzies\"}, {\"credit_id\": \"549598c3c3a3686ae9004383\", \"department\": \"Visual Effects\", \"gender\": 0, \"id\": 6690, \"job\": \"Visual Effects Producer\", \"name\": \"Jill Brooks\"}, {\"credit_id\": \"52fe48009251416c750aca4b\", \"department\": \"Production\", \"gender\": 1, \"id\": 6347, \"job\": \"Casting\", \"name\": \"Margery Simkin\"}, {\"credit_id\": \"570b6f419251417da70032fe\", \"department\": \"Art\", \"gender\": 2, \"id\": 6878, \"job\": \"Supervising Art Director\", \"name\": \"Kevin Ishioka\"}, {\"credit_id\": \"5495a0fac3a3686ae9004468\", \"department\": \"Sound\", \"gender\": 0, \"id\": 6883, \"job\": \"Music Editor\", \"name\": \"Dick Bernstein\"}, {\"credit_id\": \"54959706c3a3686af3003e81\", \"department\": \"Sound\", \"gender\": 0, \"id\": 8159, \"job\": \"Sound Effects Editor\", \"name\": \"Shannon Mills\"}, {\"credit_id\": \"54491d58c3a3680fb1001ccb\", \"department\": \"Sound\", \"gender\": 0, \"id\": 8160, \"job\": \"Foley\", \"name\": \"Dennie Thorpe\"}, {\"credit_id\": \"54491d6cc3a3680fa5001b2c\", \"department\": \"Sound\", \"gender\": 0, \"id\": 8163, \"job\": \"Foley\", \"name\": \"Jana Vance\"}, {\"credit_id\": \"52fe48009251416c750aca57\", \"department\": \"Costume & Make-Up\", \"gender\": 1, \"id\": 8527, \"job\": \"Costume Design\", \"name\": \"Deborah Lynn Scott\"}, {\"credit_id\": \"52fe48009251416c750aca2f\", \"department\": \"Production\", \"gender\": 2, \"id\": 8529, \"job\": \"Producer\", \"name\": \"Jon Landau\"}, {\"credit_id\": \"539c4937c3a36810ba002194\", \"department\": \"Art\", \"gender\": 0, \"id\": 9618, \"job\": \"Art Direction\", \"name\": \"Sean Haworth\"}, {\"credit_id\": \"539c49b6c3a36810c10020e6\", \"department\": \"Art\", \"gender\": 1, \"id\": 12653, \"job\": \"Set Decoration\", \"name\": \"Kim Sinclair\"}, {\"credit_id\": \"570b6f2f9251413a0e00020d\", \"department\": \"Art\", \"gender\": 1, \"id\": 12653, \"job\": \"Supervising Art Director\", \"name\": \"Kim Sinclair\"}, {\"credit_id\": \"54491a6c0e0a26748c001b19\", \"department\": \"Art\", \"gender\": 2, \"id\": 14350, \"job\": \"Set Designer\", \"name\": \"Richard F. Mays\"}, {\"credit_id\": \"56928cf4c3a3684cff0025c4\", \"department\": \"Production\", \"gender\": 1, \"id\": 20294, \"job\": \"Executive Producer\", \"name\": \"Laeta Kalogridis\"}, {\"credit_id\": \"52fe48009251416c750aca51\", \"department\": \"Costume & Make-Up\", \"gender\": 0, \"id\": 17675, \"job\": \"Costume Design\", \"name\": \"Mayes C. Rubeo\"}, {\"credit_id\": \"52fe48009251416c750aca11\", \"department\": \"Camera\", \"gender\": 2, \"id\": 18265, \"job\": \"Director of Photography\", \"name\": \"Mauro Fiore\"}, {\"credit_id\": \"5449194d0e0a26748f001b39\", \"department\": \"Art\", \"gender\": 0, \"id\": 42281, \"job\": \"Set Designer\", \"name\": \"Scott Herbertson\"}, {\"credit_id\": \"52fe48009251416c750aca05\", \"department\": \"Crew\", \"gender\": 0, \"id\": 42288, \"job\": \"Stunts\", \"name\": \"Woody Schultz\"}, {\"credit_id\": \"5592aefb92514152de0010f5\", \"department\": \"Costume & Make-Up\", \"gender\": 0, \"id\": 29067, \"job\": \"Makeup Artist\", \"name\": \"Linda DeVetta\"}, {\"credit_id\": \"5592afa492514152de00112c\", \"department\": \"Costume & Make-Up\", \"gender\": 0, \"id\": 29067, \"job\": \"Hairstylist\", \"name\": \"Linda DeVetta\"}, {\"credit_id\": \"54959ed592514130fc002e5d\", \"department\": \"Camera\", \"gender\": 2, \"id\": 33302, \"job\": \"Camera Operator\", \"name\": \"Richard Bluck\"}, {\"credit_id\": \"539c4891c3a36810ba002147\", \"department\": \"Art\", \"gender\": 2, \"id\": 33303, \"job\": \"Art Direction\", \"name\": \"Simon Bright\"}, {\"credit_id\": \"54959c069251417a81001f3a\", \"department\": \"Visual Effects\", \"gender\": 0, \"id\": 113145, \"job\": \"Visual Effects Supervisor\", \"name\": \"Richard Martin\"}, {\"credit_id\": \"54959a0dc3a3680ff5002c8d\", \"department\": \"Crew\", \"gender\": 2, \"id\": 58188, \"job\": \"Visual Effects Editor\", \"name\": \"Steve R. Moore\"}, {\"credit_id\": \"52fe48009251416c750aca1d\", \"department\": \"Editing\", \"gender\": 2, \"id\": 58871, \"job\": \"Editor\", \"name\": \"John Refoua\"}, {\"credit_id\": \"54491a4dc3a3680fc30018ca\", \"department\": \"Art\", \"gender\": 0, \"id\": 92359, \"job\": \"Set Designer\", \"name\": \"Karl J. Martin\"}, {\"credit_id\": \"52fe48009251416c750aca35\", \"department\": \"Camera\", \"gender\": 1, \"id\": 72201, \"job\": \"Director of Photography\", \"name\": \"Chiling Lin\"}, {\"credit_id\": \"52fe48009251416c750ac9ff\", \"department\": \"Crew\", \"gender\": 0, \"id\": 89714, \"job\": \"Stunts\", \"name\": \"Ilram Choi\"}, {\"credit_id\": \"54959c529251416e2b004394\", \"department\": \"Visual Effects\", \"gender\": 2, \"id\": 93214, \"job\": \"Visual Effects Supervisor\", \"name\": \"Steven Quale\"}, {\"credit_id\": \"54491edf0e0a267489001c37\", \"department\": \"Crew\", \"gender\": 1, \"id\": 122607, \"job\": \"Dialect Coach\", \"name\": \"Carla Meyer\"}, {\"credit_id\": \"539c485bc3a368653d001a3a\", \"department\": \"Art\", \"gender\": 2, \"id\": 132585, \"job\": \"Art Direction\", \"name\": \"Nick Bassett\"}, {\"credit_id\": \"539c4903c3a368653d001a74\", \"department\": \"Art\", \"gender\": 0, \"id\": 132596, \"job\": \"Art Direction\", \"name\": \"Jill Cormack\"}, {\"credit_id\": \"539c4967c3a368653d001a94\", \"department\": \"Art\", \"gender\": 0, \"id\": 132604, \"job\": \"Art Direction\", \"name\": \"Andy McLaren\"}, {\"credit_id\": \"52fe48009251416c750aca45\", \"department\": \"Crew\", \"gender\": 0, \"id\": 236696, \"job\": \"Motion Capture Artist\", \"name\": \"Terry Notary\"}, {\"credit_id\": \"54959e02c3a3680fc60027d2\", \"department\": \"Crew\", \"gender\": 2, \"id\": 956198, \"job\": \"Stunt Coordinator\", \"name\": \"Garrett Warren\"}, {\"credit_id\": \"54959ca3c3a3686ae300438c\", \"department\": \"Visual Effects\", \"gender\": 2, \"id\": 957874, \"job\": \"Visual Effects Supervisor\", \"name\": \"Jonathan Rothbart\"}, {\"credit_id\": \"570b6f519251412c74001b2f\", \"department\": \"Art\", \"gender\": 0, \"id\": 957889, \"job\": \"Supervising Art Director\", \"name\": \"Stefan Dechant\"}, {\"credit_id\": \"570b6f62c3a3680b77007460\", \"department\": \"Art\", \"gender\": 2, \"id\": 959555, \"job\": \"Supervising Art Director\", \"name\": \"Todd Cherniawsky\"}, {\"credit_id\": \"539c4a3ac3a36810da0021cc\", \"department\": \"Production\", \"gender\": 0, \"id\": 1016177, \"job\": \"Casting\", \"name\": \"Miranda Rivers\"}, {\"credit_id\": \"539c482cc3a36810c1002062\", \"department\": \"Art\", \"gender\": 0, \"id\": 1032536, \"job\": \"Production Design\", \"name\": \"Robert Stromberg\"}, {\"credit_id\": \"539c4b65c3a36810c9002125\", \"department\": \"Costume & Make-Up\", \"gender\": 2, \"id\": 1071680, \"job\": \"Costume Design\", \"name\": \"John Harding\"}, {\"credit_id\": \"54959e6692514130fc002e4e\", \"department\": \"Camera\", \"gender\": 0, \"id\": 1177364, \"job\": \"Steadicam Operator\", \"name\": \"Roberto De Angelis\"}, {\"credit_id\": \"539c49f1c3a368653d001aac\", \"department\": \"Costume & Make-Up\", \"gender\": 2, \"id\": 1202850, \"job\": \"Makeup Department Head\", \"name\": \"Mike Smithson\"}, {\"credit_id\": \"5495999ec3a3686ae100460c\", \"department\": \"Visual Effects\", \"gender\": 0, \"id\": 1204668, \"job\": \"Visual Effects Producer\", \"name\": \"Alain Lalanne\"}, {\"credit_id\": \"54959cdfc3a3681153002729\", \"department\": \"Visual Effects\", \"gender\": 0, \"id\": 1206410, \"job\": \"Visual Effects Supervisor\", \"name\": \"Lucas Salton\"}, {\"credit_id\": \"549596239251417a81001eae\", \"department\": \"Crew\", \"gender\": 0, \"id\": 1234266, \"job\": \"Post Production Supervisor\", \"name\": \"Janace Tashjian\"}, {\"credit_id\": \"54959c859251416e1e003efe\", \"department\": \"Visual Effects\", \"gender\": 0, \"id\": 1271932, \"job\": \"Visual Effects Supervisor\", \"name\": \"Stephen Rosenbaum\"}, {\"credit_id\": \"5592af28c3a368775a00105f\", \"department\": \"Costume & Make-Up\", \"gender\": 0, \"id\": 1310064, \"job\": \"Makeup Artist\", \"name\": \"Frankie Karena\"}, {\"credit_id\": \"539c4adfc3a36810e300203b\", \"department\": \"Costume & Make-Up\", \"gender\": 1, \"id\": 1319844, \"job\": \"Costume Supervisor\", \"name\": \"Lisa Lovaas\"}, {\"credit_id\": \"54959b579251416e2b004371\", \"department\": \"Visual Effects\", \"gender\": 0, \"id\": 1327028, \"job\": \"Visual Effects Supervisor\", \"name\": \"Jonathan Fawkner\"}, {\"credit_id\": \"539c48a7c3a36810b5001fa7\", \"department\": \"Art\", \"gender\": 0, \"id\": 1330561, \"job\": \"Art Direction\", \"name\": \"Robert Bavin\"}, {\"credit_id\": \"539c4a71c3a36810da0021e0\", \"department\": \"Costume & Make-Up\", \"gender\": 0, \"id\": 1330567, \"job\": \"Costume Supervisor\", \"name\": \"Anthony Almaraz\"}, {\"credit_id\": \"539c4a8ac3a36810ba0021e4\", \"department\": \"Costume & Make-Up\", \"gender\": 0, \"id\": 1330570, \"job\": \"Costume Supervisor\", \"name\": \"Carolyn M. Fenton\"}, {\"credit_id\": \"539c4ab6c3a36810da0021f0\", \"department\": \"Costume & Make-Up\", \"gender\": 0, \"id\": 1330574, \"job\": \"Costume Supervisor\", \"name\": \"Beth Koenigsberg\"}, {\"credit_id\": \"54491ab70e0a267480001ba2\", \"department\": \"Art\", \"gender\": 0, \"id\": 1336191, \"job\": \"Set Designer\", \"name\": \"Sam Page\"}, {\"credit_id\": \"544919d9c3a3680fc30018bd\", \"department\": \"Art\", \"gender\": 0, \"id\": 1339441, \"job\": \"Set Designer\", \"name\": \"Tex Kadonaga\"}, {\"credit_id\": \"54491cf50e0a267483001b0c\", \"department\": \"Editing\", \"gender\": 0, \"id\": 1352422, \"job\": \"Dialogue Editor\", \"name\": \"Kim Foscato\"}, {\"credit_id\": \"544919f40e0a26748c001b09\", \"department\": \"Art\", \"gender\": 0, \"id\": 1352962, \"job\": \"Set Designer\", \"name\": \"Tammy S. Lee\"}, {\"credit_id\": \"5495a115c3a3680ff5002d71\", \"department\": \"Crew\", \"gender\": 0, \"id\": 1357070, \"job\": \"Transportation Coordinator\", \"name\": \"Denny Caira\"}, {\"credit_id\": \"5495a12f92514130fc002e94\", \"department\": \"Crew\", \"gender\": 0, \"id\": 1357071, \"job\": \"Transportation Coordinator\", \"name\": \"James Waitkus\"}, {\"credit_id\": \"5495976fc3a36811530026b0\", \"department\": \"Sound\", \"gender\": 0, \"id\": 1360103, \"job\": \"Supervising Sound Editor\", \"name\": \"Addison Teague\"}, {\"credit_id\": \"54491837c3a3680fb1001c5a\", \"department\": \"Art\", \"gender\": 2, \"id\": 1376887, \"job\": \"Set Designer\", \"name\": \"C. Scott Baker\"}, {\"credit_id\": \"54491878c3a3680fb4001c9d\", \"department\": \"Art\", \"gender\": 0, \"id\": 1376888, \"job\": \"Set Designer\", \"name\": \"Luke Caska\"}, {\"credit_id\": \"544918dac3a3680fa5001ae0\", \"department\": \"Art\", \"gender\": 0, \"id\": 1376889, \"job\": \"Set Designer\", \"name\": \"David Chow\"}, {\"credit_id\": \"544919110e0a267486001b68\", \"department\": \"Art\", \"gender\": 0, \"id\": 1376890, \"job\": \"Set Designer\", \"name\": \"Jonathan Dyer\"}, {\"credit_id\": \"54491967c3a3680faa001b5e\", \"department\": \"Art\", \"gender\": 0, \"id\": 1376891, \"job\": \"Set Designer\", \"name\": \"Joseph Hiura\"}, {\"credit_id\": \"54491997c3a3680fb1001c8a\", \"department\": \"Art\", \"gender\": 0, \"id\": 1376892, \"job\": \"Art Department Coordinator\", \"name\": \"Rebecca Jellie\"}, {\"credit_id\": \"544919ba0e0a26748f001b42\", \"department\": \"Art\", \"gender\": 0, \"id\": 1376893, \"job\": \"Set Designer\", \"name\": \"Robert Andrew Johnson\"}, {\"credit_id\": \"54491b1dc3a3680faa001b8c\", \"department\": \"Art\", \"gender\": 0, \"id\": 1376895, \"job\": \"Assistant Art Director\", \"name\": \"Mike Stassi\"}, {\"credit_id\": \"54491b79c3a3680fbb001826\", \"department\": \"Art\", \"gender\": 0, \"id\": 1376897, \"job\": \"Construction Coordinator\", \"name\": \"John Villarino\"}, {\"credit_id\": \"54491baec3a3680fb4001ce6\", \"department\": \"Art\", \"gender\": 2, \"id\": 1376898, \"job\": \"Assistant Art Director\", \"name\": \"Jeffrey Wisniewski\"}, {\"credit_id\": \"54491d2fc3a3680fb4001d07\", \"department\": \"Editing\", \"gender\": 0, \"id\": 1376899, \"job\": \"Dialogue Editor\", \"name\": \"Cheryl Nardi\"}, {\"credit_id\": \"54491d86c3a3680fa5001b2f\", \"department\": \"Editing\", \"gender\": 0, \"id\": 1376901, \"job\": \"Dialogue Editor\", \"name\": \"Marshall Winn\"}, {\"credit_id\": \"54491d9dc3a3680faa001bb0\", \"department\": \"Sound\", \"gender\": 0, \"id\": 1376902, \"job\": \"Supervising Sound Editor\", \"name\": \"Gwendolyn Yates Whittle\"}, {\"credit_id\": \"54491dc10e0a267486001bce\", \"department\": \"Sound\", \"gender\": 0, \"id\": 1376903, \"job\": \"Sound Re-Recording Mixer\", \"name\": \"William Stein\"}, {\"credit_id\": \"54491f500e0a26747c001c07\", \"department\": \"Crew\", \"gender\": 0, \"id\": 1376909, \"job\": \"Choreographer\", \"name\": \"Lula Washington\"}, {\"credit_id\": \"549599239251412c4e002a2e\", \"department\": \"Visual Effects\", \"gender\": 0, \"id\": 1391692, \"job\": \"Visual Effects Producer\", \"name\": \"Chris Del Conte\"}, {\"credit_id\": \"54959d54c3a36831b8001d9a\", \"department\": \"Visual Effects\", \"gender\": 2, \"id\": 1391695, \"job\": \"Visual Effects Supervisor\", \"name\": \"R. Christopher White\"}, {\"credit_id\": \"54959bdf9251412c4e002a66\", \"department\": \"Visual Effects\", \"gender\": 0, \"id\": 1394070, \"job\": \"Visual Effects Supervisor\", \"name\": \"Dan Lemmon\"}, {\"credit_id\": \"5495971d92514132ed002922\", \"department\": \"Sound\", \"gender\": 0, \"id\": 1394129, \"job\": \"Sound Effects Editor\", \"name\": \"Tim Nielsen\"}, {\"credit_id\": \"5592b25792514152cc0011aa\", \"department\": \"Crew\", \"gender\": 0, \"id\": 1394286, \"job\": \"CG Supervisor\", \"name\": \"Michael Mulholland\"}, {\"credit_id\": \"54959a329251416e2b004355\", \"department\": \"Crew\", \"gender\": 0, \"id\": 1394750, \"job\": \"Visual Effects Editor\", \"name\": \"Thomas Nittmann\"}, {\"credit_id\": \"54959d6dc3a3686ae9004401\", \"department\": \"Visual Effects\", \"gender\": 0, \"id\": 1394755, \"job\": \"Visual Effects Supervisor\", \"name\": \"Edson Williams\"}, {\"credit_id\": \"5495a08fc3a3686ae300441c\", \"department\": \"Editing\", \"gender\": 0, \"id\": 1394953, \"job\": \"Digital Intermediate\", \"name\": \"Christine Carr\"}, {\"credit_id\": \"55402d659251413d6d000249\", \"department\": \"Visual Effects\", \"gender\": 0, \"id\": 1395269, \"job\": \"Visual Effects Supervisor\", \"name\": \"John Bruno\"}, {\"credit_id\": \"54959e7b9251416e1e003f3e\", \"department\": \"Camera\", \"gender\": 0, \"id\": 1398970, \"job\": \"Steadicam Operator\", \"name\": \"David Emmerichs\"}, {\"credit_id\": \"54959734c3a3686ae10045e0\", \"department\": \"Sound\", \"gender\": 0, \"id\": 1400906, \"job\": \"Sound Effects Editor\", \"name\": \"Christopher Scarabosio\"}, {\"credit_id\": \"549595dd92514130fc002d79\", \"department\": \"Production\", \"gender\": 0, \"id\": 1401784, \"job\": \"Production Supervisor\", \"name\": \"Jennifer Teves\"}, {\"credit_id\": \"549596009251413af70028cc\", \"department\": \"Production\", \"gender\": 0, \"id\": 1401785, \"job\": \"Production Manager\", \"name\": \"Brigitte Yorke\"}, {\"credit_id\": \"549596e892514130fc002d99\", \"department\": \"Sound\", \"gender\": 0, \"id\": 1401786, \"job\": \"Sound Effects Editor\", \"name\": \"Ken Fischer\"}, {\"credit_id\": \"549598229251412c4e002a1c\", \"department\": \"Crew\", \"gender\": 0, \"id\": 1401787, \"job\": \"Special Effects Coordinator\", \"name\": \"Iain Hutton\"}, {\"credit_id\": \"549598349251416e2b00432b\", \"department\": \"Crew\", \"gender\": 0, \"id\": 1401788, \"job\": \"Special Effects Coordinator\", \"name\": \"Steve Ingram\"}, {\"credit_id\": \"54959905c3a3686ae3004324\", \"department\": \"Visual Effects\", \"gender\": 0, \"id\": 1401789, \"job\": \"Visual Effects Producer\", \"name\": \"Joyce Cox\"}, {\"credit_id\": \"5495994b92514132ed002951\", \"department\": \"Visual Effects\", \"gender\": 0, \"id\": 1401790, \"job\": \"Visual Effects Producer\", \"name\": \"Jenny Foster\"}, {\"credit_id\": \"549599cbc3a3686ae1004613\", \"department\": \"Crew\", \"gender\": 0, \"id\": 1401791, \"job\": \"Visual Effects Editor\", \"name\": \"Christopher Marino\"}, {\"credit_id\": \"549599f2c3a3686ae100461e\", \"department\": \"Crew\", \"gender\": 0, \"id\": 1401792, \"job\": \"Visual Effects Editor\", \"name\": \"Jim Milton\"}, {\"credit_id\": \"54959a51c3a3686af3003eb5\", \"department\": \"Visual Effects\", \"gender\": 0, \"id\": 1401793, \"job\": \"Visual Effects Producer\", \"name\": \"Cyndi Ochs\"}, {\"credit_id\": \"54959a7cc3a36811530026f4\", \"department\": \"Crew\", \"gender\": 0, \"id\": 1401794, \"job\": \"Visual Effects Editor\", \"name\": \"Lucas Putnam\"}, {\"credit_id\": \"54959b91c3a3680ff5002cb4\", \"department\": \"Visual Effects\", \"gender\": 0, \"id\": 1401795, \"job\": \"Visual Effects Supervisor\", \"name\": \"Anthony \\'Max\\' Ivins\"}, {\"credit_id\": \"54959bb69251412c4e002a5f\", \"department\": \"Visual Effects\", \"gender\": 0, \"id\": 1401796, \"job\": \"Visual Effects Supervisor\", \"name\": \"John Knoll\"}, {\"credit_id\": \"54959cbbc3a3686ae3004391\", \"department\": \"Visual Effects\", \"gender\": 2, \"id\": 1401799, \"job\": \"Visual Effects Supervisor\", \"name\": \"Eric Saindon\"}, {\"credit_id\": \"54959d06c3a3686ae90043f6\", \"department\": \"Visual Effects\", \"gender\": 0, \"id\": 1401800, \"job\": \"Visual Effects Supervisor\", \"name\": \"Wayne Stables\"}, {\"credit_id\": \"54959d259251416e1e003f11\", \"department\": \"Visual Effects\", \"gender\": 0, \"id\": 1401801, \"job\": \"Visual Effects Supervisor\", \"name\": \"David Stinnett\"}, {\"credit_id\": \"54959db49251413af7002975\", \"department\": \"Visual Effects\", \"gender\": 0, \"id\": 1401803, \"job\": \"Visual Effects Supervisor\", \"name\": \"Guy Williams\"}, {\"credit_id\": \"54959de4c3a3681153002750\", \"department\": \"Crew\", \"gender\": 0, \"id\": 1401804, \"job\": \"Stunt Coordinator\", \"name\": \"Stuart Thorp\"}, {\"credit_id\": \"54959ef2c3a3680fc60027f2\", \"department\": \"Lighting\", \"gender\": 0, \"id\": 1401805, \"job\": \"Best Boy Electric\", \"name\": \"Giles Coburn\"}, {\"credit_id\": \"54959f07c3a3680fc60027f9\", \"department\": \"Camera\", \"gender\": 2, \"id\": 1401806, \"job\": \"Still Photographer\", \"name\": \"Mark Fellman\"}, {\"credit_id\": \"54959f47c3a3681153002774\", \"department\": \"Lighting\", \"gender\": 0, \"id\": 1401807, \"job\": \"Lighting Technician\", \"name\": \"Scott Sprague\"}, {\"credit_id\": \"54959f8cc3a36831b8001df2\", \"department\": \"Visual Effects\", \"gender\": 0, \"id\": 1401808, \"job\": \"Animation Director\", \"name\": \"Jeremy Hollobon\"}, {\"credit_id\": \"54959fa0c3a36831b8001dfb\", \"department\": \"Visual Effects\", \"gender\": 0, \"id\": 1401809, \"job\": \"Animation Director\", \"name\": \"Orlando Meunier\"}, {\"credit_id\": \"54959fb6c3a3686af3003f54\", \"department\": \"Visual Effects\", \"gender\": 0, \"id\": 1401810, \"job\": \"Animation Director\", \"name\": \"Taisuke Tanimura\"}, {\"credit_id\": \"54959fd2c3a36831b8001e02\", \"department\": \"Costume & Make-Up\", \"gender\": 0, \"id\": 1401812, \"job\": \"Set Costumer\", \"name\": \"Lilia Mishel Acevedo\"}, {\"credit_id\": \"54959ff9c3a3686ae300440c\", \"department\": \"Costume & Make-Up\", \"gender\": 0, \"id\": 1401814, \"job\": \"Set Costumer\", \"name\": \"Alejandro M. Hernandez\"}, {\"credit_id\": \"5495a0ddc3a3686ae10046fe\", \"department\": \"Editing\", \"gender\": 0, \"id\": 1401815, \"job\": \"Digital Intermediate\", \"name\": \"Marvin Hall\"}, {\"credit_id\": \"5495a1f7c3a3686ae3004443\", \"department\": \"Production\", \"gender\": 0, \"id\": 1401816, \"job\": \"Publicist\", \"name\": \"Judy Alley\"}, {\"credit_id\": \"5592b29fc3a36869d100002f\", \"department\": \"Crew\", \"gender\": 0, \"id\": 1418381, \"job\": \"CG Supervisor\", \"name\": \"Mike Perry\"}, {\"credit_id\": \"5592b23a9251415df8001081\", \"department\": \"Crew\", \"gender\": 0, \"id\": 1426854, \"job\": \"CG Supervisor\", \"name\": \"Andrew Morley\"}, {\"credit_id\": \"55491e1192514104c40002d8\", \"department\": \"Art\", \"gender\": 0, \"id\": 1438901, \"job\": \"Conceptual Design\", \"name\": \"Seth Engstrom\"}, {\"credit_id\": \"5525d5809251417276002b06\", \"department\": \"Crew\", \"gender\": 0, \"id\": 1447362, \"job\": \"Visual Effects Art Director\", \"name\": \"Eric Oliver\"}, {\"credit_id\": \"554427ca925141586500312a\", \"department\": \"Visual Effects\", \"gender\": 0, \"id\": 1447503, \"job\": \"Modeling\", \"name\": \"Matsune Suzuki\"}, {\"credit_id\": \"551906889251415aab001c88\", \"department\": \"Art\", \"gender\": 0, \"id\": 1447524, \"job\": \"Art Department Manager\", \"name\": \"Paul Tobin\"}, {\"credit_id\": \"5592af8492514152cc0010de\", \"department\": \"Costume & Make-Up\", \"gender\": 0, \"id\": 1452643, \"job\": \"Hairstylist\", \"name\": \"Roxane Griffin\"}, {\"credit_id\": \"553d3c109251415852001318\", \"department\": \"Lighting\", \"gender\": 0, \"id\": 1453938, \"job\": \"Lighting Artist\", \"name\": \"Arun Ram-Mohan\"}, {\"credit_id\": \"5592af4692514152d5001355\", \"department\": \"Costume & Make-Up\", \"gender\": 0, \"id\": 1457305, \"job\": \"Makeup Artist\", \"name\": \"Georgia Lockhart-Adams\"}, {\"credit_id\": \"5592b2eac3a36877470012a5\", \"department\": \"Crew\", \"gender\": 0, \"id\": 1466035, \"job\": \"CG Supervisor\", \"name\": \"Thrain Shadbolt\"}, {\"credit_id\": \"5592b032c3a36877450015f1\", \"department\": \"Crew\", \"gender\": 0, \"id\": 1483220, \"job\": \"CG Supervisor\", \"name\": \"Brad Alexander\"}, {\"credit_id\": \"5592b05592514152d80012f6\", \"department\": \"Crew\", \"gender\": 0, \"id\": 1483221, \"job\": \"CG Supervisor\", \"name\": \"Shadi Almassizadeh\"}, {\"credit_id\": \"5592b090c3a36877570010b5\", \"department\": \"Crew\", \"gender\": 0, \"id\": 1483222, \"job\": \"CG Supervisor\", \"name\": \"Simon Clutterbuck\"}, {\"credit_id\": \"5592b0dbc3a368774b00112c\", \"department\": \"Crew\", \"gender\": 0, \"id\": 1483223, \"job\": \"CG Supervisor\", \"name\": \"Graeme Demmocks\"}, {\"credit_id\": \"5592b0fe92514152db0010c1\", \"department\": \"Crew\", \"gender\": 0, \"id\": 1483224, \"job\": \"CG Supervisor\", \"name\": \"Adrian Fernandes\"}, {\"credit_id\": \"5592b11f9251415df8001059\", \"department\": \"Crew\", \"gender\": 0, \"id\": 1483225, \"job\": \"CG Supervisor\", \"name\": \"Mitch Gates\"}, {\"credit_id\": \"5592b15dc3a3687745001645\", \"department\": \"Crew\", \"gender\": 0, \"id\": 1483226, \"job\": \"CG Supervisor\", \"name\": \"Jerry Kung\"}, {\"credit_id\": \"5592b18e925141645a0004ae\", \"department\": \"Crew\", \"gender\": 0, \"id\": 1483227, \"job\": \"CG Supervisor\", \"name\": \"Andy Lomas\"}, {\"credit_id\": \"5592b1bfc3a368775d0010e7\", \"department\": \"Crew\", \"gender\": 0, \"id\": 1483228, \"job\": \"CG Supervisor\", \"name\": \"Sebastian Marino\"}, {\"credit_id\": \"5592b2049251415df8001078\", \"department\": \"Crew\", \"gender\": 0, \"id\": 1483229, \"job\": \"CG Supervisor\", \"name\": \"Matthias Menz\"}, {\"credit_id\": \"5592b27b92514152d800136a\", \"department\": \"Crew\", \"gender\": 0, \"id\": 1483230, \"job\": \"CG Supervisor\", \"name\": \"Sergei Nevshupov\"}, {\"credit_id\": \"5592b2c3c3a36869e800003c\", \"department\": \"Crew\", \"gender\": 0, \"id\": 1483231, \"job\": \"CG Supervisor\", \"name\": \"Philippe Rebours\"}, {\"credit_id\": \"5592b317c3a36877470012af\", \"department\": \"Crew\", \"gender\": 0, \"id\": 1483232, \"job\": \"CG Supervisor\", \"name\": \"Michael Takarangi\"}, {\"credit_id\": \"5592b345c3a36877470012bb\", \"department\": \"Crew\", \"gender\": 0, \"id\": 1483233, \"job\": \"CG Supervisor\", \"name\": \"David Weitzberg\"}, {\"credit_id\": \"5592b37cc3a368775100113b\", \"department\": \"Crew\", \"gender\": 0, \"id\": 1483234, \"job\": \"CG Supervisor\", \"name\": \"Ben White\"}, {\"credit_id\": \"573c8e2f9251413f5d000094\", \"department\": \"Crew\", \"gender\": 1, \"id\": 1621932, \"job\": \"Stunts\", \"name\": \"Min Windle\"}]'"
            ],
            "application/vnd.google.colaboratory.intrinsic+json": {
              "type": "string"
            }
          },
          "metadata": {},
          "execution_count": 17
        }
      ]
    },
    {
      "cell_type": "code",
      "source": [
        "def convert_2(obj):\n",
        "  l=[]\n",
        "  for i in ast.literal_eval(obj):\n",
        "    if i['job'] == 'Director':\n",
        "     l.append(i['name'])\n",
        "     break\n",
        "  return l\n",
        "film.crew = film['crew'].apply(convert_2)"
      ],
      "metadata": {
        "id": "t2twfH4yoEKz"
      },
      "execution_count": 18,
      "outputs": []
    },
    {
      "cell_type": "code",
      "source": [
        "film.overview = film.overview.apply(lambda x:x.split())  #convert string to list"
      ],
      "metadata": {
        "id": "APsmD2v8og_E"
      },
      "execution_count": 19,
      "outputs": []
    },
    {
      "cell_type": "code",
      "source": [
        "film.genres=film.genres.apply(lambda x:[i.replace(\" \",\"\")for i in x])\n",
        "film.keywords=film.keywords.apply(lambda x:[i.replace(\" \",\"\")for i in x])\n",
        "film.crew=film.crew.apply(lambda x:[i.replace(\" \",\"\")for i in x])\n",
        "film.cast=film.cast.apply(lambda x:[i.replace(\" \",\"\")for i in x])\n",
        "'''def k(x):\n",
        "    for i in x:\n",
        "      return [i.replace(\" \",\"\")]\n",
        "film.genres.apply(k)'''"
      ],
      "metadata": {
        "colab": {
          "base_uri": "https://localhost:8080/",
          "height": 36
        },
        "id": "68keAGd5qKf_",
        "outputId": "de1f70fb-2d95-4263-958e-e15b7335edc6"
      },
      "execution_count": 20,
      "outputs": [
        {
          "output_type": "execute_result",
          "data": {
            "text/plain": [
              "'def k(x):\\n    for i in x:\\n      return [i.replace(\" \",\"\")]\\nfilm.genres.apply(k)'"
            ],
            "application/vnd.google.colaboratory.intrinsic+json": {
              "type": "string"
            }
          },
          "metadata": {},
          "execution_count": 20
        }
      ]
    },
    {
      "cell_type": "code",
      "source": [
        "film['tags'] = film['overview']+film['keywords']+film['cast']+film['crew']"
      ],
      "metadata": {
        "id": "JR90FdqJsAH9"
      },
      "execution_count": 21,
      "outputs": []
    },
    {
      "cell_type": "code",
      "source": [
        "df = film[['movie_id','title','tags']]"
      ],
      "metadata": {
        "id": "QOk9KLZysWSp"
      },
      "execution_count": 22,
      "outputs": []
    },
    {
      "cell_type": "code",
      "source": [
        "df.tags = df.tags.apply(lambda x:\" \".join(x))  #convert list to string\n",
        "'''\n",
        "def h(x):\n",
        "  return \" \".join(x)\n",
        "df.tags.apply(h)'''"
      ],
      "metadata": {
        "colab": {
          "base_uri": "https://localhost:8080/",
          "height": 140
        },
        "id": "0eZcNUPuspjI",
        "outputId": "85748879-d139-4d29-b7bc-8816e4690428"
      },
      "execution_count": 23,
      "outputs": [
        {
          "output_type": "stream",
          "name": "stderr",
          "text": [
            "<ipython-input-23-0eccbbd5c66e>:1: SettingWithCopyWarning: \n",
            "A value is trying to be set on a copy of a slice from a DataFrame.\n",
            "Try using .loc[row_indexer,col_indexer] = value instead\n",
            "\n",
            "See the caveats in the documentation: https://pandas.pydata.org/pandas-docs/stable/user_guide/indexing.html#returning-a-view-versus-a-copy\n",
            "  df.tags = df.tags.apply(lambda x:\" \".join(x))  #convert list to string\n"
          ]
        },
        {
          "output_type": "execute_result",
          "data": {
            "text/plain": [
              "'\\ndef h(x):\\n  return \" \".join(x)\\ndf.tags.apply(h)'"
            ],
            "application/vnd.google.colaboratory.intrinsic+json": {
              "type": "string"
            }
          },
          "metadata": {},
          "execution_count": 23
        }
      ]
    },
    {
      "cell_type": "code",
      "source": [
        "df.tags = df.tags.apply(lambda x:x.lower())\n",
        "'''\n",
        "def g(x):\n",
        "  return x.lower()\n",
        "df.tags.apply(g)'''"
      ],
      "metadata": {
        "colab": {
          "base_uri": "https://localhost:8080/",
          "height": 140
        },
        "id": "I5BGRmBSs1QQ",
        "outputId": "f4c4b4ee-0d6f-459e-dea0-bb26fdb8a426"
      },
      "execution_count": 24,
      "outputs": [
        {
          "output_type": "stream",
          "name": "stderr",
          "text": [
            "<ipython-input-24-8512dffc2207>:1: SettingWithCopyWarning: \n",
            "A value is trying to be set on a copy of a slice from a DataFrame.\n",
            "Try using .loc[row_indexer,col_indexer] = value instead\n",
            "\n",
            "See the caveats in the documentation: https://pandas.pydata.org/pandas-docs/stable/user_guide/indexing.html#returning-a-view-versus-a-copy\n",
            "  df.tags = df.tags.apply(lambda x:x.lower())\n"
          ]
        },
        {
          "output_type": "execute_result",
          "data": {
            "text/plain": [
              "'\\ndef g(x):\\n  return x.lower()\\ndf.tags.apply(g)'"
            ],
            "application/vnd.google.colaboratory.intrinsic+json": {
              "type": "string"
            }
          },
          "metadata": {},
          "execution_count": 24
        }
      ]
    },
    {
      "cell_type": "code",
      "source": [
        "df.head()"
      ],
      "metadata": {
        "colab": {
          "base_uri": "https://localhost:8080/",
          "height": 206
        },
        "id": "-MaG8cLSwIXT",
        "outputId": "37f27b0d-a220-4ea2-d99c-ce4c35f5bc69"
      },
      "execution_count": 25,
      "outputs": [
        {
          "output_type": "execute_result",
          "data": {
            "text/plain": [
              "   movie_id                                     title  \\\n",
              "0     19995                                    Avatar   \n",
              "1       285  Pirates of the Caribbean: At World's End   \n",
              "2    206647                                   Spectre   \n",
              "3     49026                     The Dark Knight Rises   \n",
              "4     49529                               John Carter   \n",
              "\n",
              "                                                tags  \n",
              "0  in the 22nd century, a paraplegic marine is di...  \n",
              "1  captain barbossa, long believed to be dead, ha...  \n",
              "2  a cryptic message from bond’s past sends him o...  \n",
              "3  following the death of district attorney harve...  \n",
              "4  john carter is a war-weary, former military ca...  "
            ],
            "text/html": [
              "\n",
              "  <div id=\"df-ac15f39b-0c12-494c-afb3-810bd54cb912\" class=\"colab-df-container\">\n",
              "    <div>\n",
              "<style scoped>\n",
              "    .dataframe tbody tr th:only-of-type {\n",
              "        vertical-align: middle;\n",
              "    }\n",
              "\n",
              "    .dataframe tbody tr th {\n",
              "        vertical-align: top;\n",
              "    }\n",
              "\n",
              "    .dataframe thead th {\n",
              "        text-align: right;\n",
              "    }\n",
              "</style>\n",
              "<table border=\"1\" class=\"dataframe\">\n",
              "  <thead>\n",
              "    <tr style=\"text-align: right;\">\n",
              "      <th></th>\n",
              "      <th>movie_id</th>\n",
              "      <th>title</th>\n",
              "      <th>tags</th>\n",
              "    </tr>\n",
              "  </thead>\n",
              "  <tbody>\n",
              "    <tr>\n",
              "      <th>0</th>\n",
              "      <td>19995</td>\n",
              "      <td>Avatar</td>\n",
              "      <td>in the 22nd century, a paraplegic marine is di...</td>\n",
              "    </tr>\n",
              "    <tr>\n",
              "      <th>1</th>\n",
              "      <td>285</td>\n",
              "      <td>Pirates of the Caribbean: At World's End</td>\n",
              "      <td>captain barbossa, long believed to be dead, ha...</td>\n",
              "    </tr>\n",
              "    <tr>\n",
              "      <th>2</th>\n",
              "      <td>206647</td>\n",
              "      <td>Spectre</td>\n",
              "      <td>a cryptic message from bond’s past sends him o...</td>\n",
              "    </tr>\n",
              "    <tr>\n",
              "      <th>3</th>\n",
              "      <td>49026</td>\n",
              "      <td>The Dark Knight Rises</td>\n",
              "      <td>following the death of district attorney harve...</td>\n",
              "    </tr>\n",
              "    <tr>\n",
              "      <th>4</th>\n",
              "      <td>49529</td>\n",
              "      <td>John Carter</td>\n",
              "      <td>john carter is a war-weary, former military ca...</td>\n",
              "    </tr>\n",
              "  </tbody>\n",
              "</table>\n",
              "</div>\n",
              "    <div class=\"colab-df-buttons\">\n",
              "\n",
              "  <div class=\"colab-df-container\">\n",
              "    <button class=\"colab-df-convert\" onclick=\"convertToInteractive('df-ac15f39b-0c12-494c-afb3-810bd54cb912')\"\n",
              "            title=\"Convert this dataframe to an interactive table.\"\n",
              "            style=\"display:none;\">\n",
              "\n",
              "  <svg xmlns=\"http://www.w3.org/2000/svg\" height=\"24px\" viewBox=\"0 -960 960 960\">\n",
              "    <path d=\"M120-120v-720h720v720H120Zm60-500h600v-160H180v160Zm220 220h160v-160H400v160Zm0 220h160v-160H400v160ZM180-400h160v-160H180v160Zm440 0h160v-160H620v160ZM180-180h160v-160H180v160Zm440 0h160v-160H620v160Z\"/>\n",
              "  </svg>\n",
              "    </button>\n",
              "\n",
              "  <style>\n",
              "    .colab-df-container {\n",
              "      display:flex;\n",
              "      gap: 12px;\n",
              "    }\n",
              "\n",
              "    .colab-df-convert {\n",
              "      background-color: #E8F0FE;\n",
              "      border: none;\n",
              "      border-radius: 50%;\n",
              "      cursor: pointer;\n",
              "      display: none;\n",
              "      fill: #1967D2;\n",
              "      height: 32px;\n",
              "      padding: 0 0 0 0;\n",
              "      width: 32px;\n",
              "    }\n",
              "\n",
              "    .colab-df-convert:hover {\n",
              "      background-color: #E2EBFA;\n",
              "      box-shadow: 0px 1px 2px rgba(60, 64, 67, 0.3), 0px 1px 3px 1px rgba(60, 64, 67, 0.15);\n",
              "      fill: #174EA6;\n",
              "    }\n",
              "\n",
              "    .colab-df-buttons div {\n",
              "      margin-bottom: 4px;\n",
              "    }\n",
              "\n",
              "    [theme=dark] .colab-df-convert {\n",
              "      background-color: #3B4455;\n",
              "      fill: #D2E3FC;\n",
              "    }\n",
              "\n",
              "    [theme=dark] .colab-df-convert:hover {\n",
              "      background-color: #434B5C;\n",
              "      box-shadow: 0px 1px 3px 1px rgba(0, 0, 0, 0.15);\n",
              "      filter: drop-shadow(0px 1px 2px rgba(0, 0, 0, 0.3));\n",
              "      fill: #FFFFFF;\n",
              "    }\n",
              "  </style>\n",
              "\n",
              "    <script>\n",
              "      const buttonEl =\n",
              "        document.querySelector('#df-ac15f39b-0c12-494c-afb3-810bd54cb912 button.colab-df-convert');\n",
              "      buttonEl.style.display =\n",
              "        google.colab.kernel.accessAllowed ? 'block' : 'none';\n",
              "\n",
              "      async function convertToInteractive(key) {\n",
              "        const element = document.querySelector('#df-ac15f39b-0c12-494c-afb3-810bd54cb912');\n",
              "        const dataTable =\n",
              "          await google.colab.kernel.invokeFunction('convertToInteractive',\n",
              "                                                    [key], {});\n",
              "        if (!dataTable) return;\n",
              "\n",
              "        const docLinkHtml = 'Like what you see? Visit the ' +\n",
              "          '<a target=\"_blank\" href=https://colab.research.google.com/notebooks/data_table.ipynb>data table notebook</a>'\n",
              "          + ' to learn more about interactive tables.';\n",
              "        element.innerHTML = '';\n",
              "        dataTable['output_type'] = 'display_data';\n",
              "        await google.colab.output.renderOutput(dataTable, element);\n",
              "        const docLink = document.createElement('div');\n",
              "        docLink.innerHTML = docLinkHtml;\n",
              "        element.appendChild(docLink);\n",
              "      }\n",
              "    </script>\n",
              "  </div>\n",
              "\n",
              "\n",
              "    <div id=\"df-f5f57335-d1e9-48f5-84e1-fa20f749bc57\">\n",
              "      <button class=\"colab-df-quickchart\" onclick=\"quickchart('df-f5f57335-d1e9-48f5-84e1-fa20f749bc57')\"\n",
              "                title=\"Suggest charts\"\n",
              "                style=\"display:none;\">\n",
              "\n",
              "<svg xmlns=\"http://www.w3.org/2000/svg\" height=\"24px\"viewBox=\"0 0 24 24\"\n",
              "     width=\"24px\">\n",
              "    <g>\n",
              "        <path d=\"M19 3H5c-1.1 0-2 .9-2 2v14c0 1.1.9 2 2 2h14c1.1 0 2-.9 2-2V5c0-1.1-.9-2-2-2zM9 17H7v-7h2v7zm4 0h-2V7h2v10zm4 0h-2v-4h2v4z\"/>\n",
              "    </g>\n",
              "</svg>\n",
              "      </button>\n",
              "\n",
              "<style>\n",
              "  .colab-df-quickchart {\n",
              "      --bg-color: #E8F0FE;\n",
              "      --fill-color: #1967D2;\n",
              "      --hover-bg-color: #E2EBFA;\n",
              "      --hover-fill-color: #174EA6;\n",
              "      --disabled-fill-color: #AAA;\n",
              "      --disabled-bg-color: #DDD;\n",
              "  }\n",
              "\n",
              "  [theme=dark] .colab-df-quickchart {\n",
              "      --bg-color: #3B4455;\n",
              "      --fill-color: #D2E3FC;\n",
              "      --hover-bg-color: #434B5C;\n",
              "      --hover-fill-color: #FFFFFF;\n",
              "      --disabled-bg-color: #3B4455;\n",
              "      --disabled-fill-color: #666;\n",
              "  }\n",
              "\n",
              "  .colab-df-quickchart {\n",
              "    background-color: var(--bg-color);\n",
              "    border: none;\n",
              "    border-radius: 50%;\n",
              "    cursor: pointer;\n",
              "    display: none;\n",
              "    fill: var(--fill-color);\n",
              "    height: 32px;\n",
              "    padding: 0;\n",
              "    width: 32px;\n",
              "  }\n",
              "\n",
              "  .colab-df-quickchart:hover {\n",
              "    background-color: var(--hover-bg-color);\n",
              "    box-shadow: 0 1px 2px rgba(60, 64, 67, 0.3), 0 1px 3px 1px rgba(60, 64, 67, 0.15);\n",
              "    fill: var(--button-hover-fill-color);\n",
              "  }\n",
              "\n",
              "  .colab-df-quickchart-complete:disabled,\n",
              "  .colab-df-quickchart-complete:disabled:hover {\n",
              "    background-color: var(--disabled-bg-color);\n",
              "    fill: var(--disabled-fill-color);\n",
              "    box-shadow: none;\n",
              "  }\n",
              "\n",
              "  .colab-df-spinner {\n",
              "    border: 2px solid var(--fill-color);\n",
              "    border-color: transparent;\n",
              "    border-bottom-color: var(--fill-color);\n",
              "    animation:\n",
              "      spin 1s steps(1) infinite;\n",
              "  }\n",
              "\n",
              "  @keyframes spin {\n",
              "    0% {\n",
              "      border-color: transparent;\n",
              "      border-bottom-color: var(--fill-color);\n",
              "      border-left-color: var(--fill-color);\n",
              "    }\n",
              "    20% {\n",
              "      border-color: transparent;\n",
              "      border-left-color: var(--fill-color);\n",
              "      border-top-color: var(--fill-color);\n",
              "    }\n",
              "    30% {\n",
              "      border-color: transparent;\n",
              "      border-left-color: var(--fill-color);\n",
              "      border-top-color: var(--fill-color);\n",
              "      border-right-color: var(--fill-color);\n",
              "    }\n",
              "    40% {\n",
              "      border-color: transparent;\n",
              "      border-right-color: var(--fill-color);\n",
              "      border-top-color: var(--fill-color);\n",
              "    }\n",
              "    60% {\n",
              "      border-color: transparent;\n",
              "      border-right-color: var(--fill-color);\n",
              "    }\n",
              "    80% {\n",
              "      border-color: transparent;\n",
              "      border-right-color: var(--fill-color);\n",
              "      border-bottom-color: var(--fill-color);\n",
              "    }\n",
              "    90% {\n",
              "      border-color: transparent;\n",
              "      border-bottom-color: var(--fill-color);\n",
              "    }\n",
              "  }\n",
              "</style>\n",
              "\n",
              "      <script>\n",
              "        async function quickchart(key) {\n",
              "          const quickchartButtonEl =\n",
              "            document.querySelector('#' + key + ' button');\n",
              "          quickchartButtonEl.disabled = true;  // To prevent multiple clicks.\n",
              "          quickchartButtonEl.classList.add('colab-df-spinner');\n",
              "          try {\n",
              "            const charts = await google.colab.kernel.invokeFunction(\n",
              "                'suggestCharts', [key], {});\n",
              "          } catch (error) {\n",
              "            console.error('Error during call to suggestCharts:', error);\n",
              "          }\n",
              "          quickchartButtonEl.classList.remove('colab-df-spinner');\n",
              "          quickchartButtonEl.classList.add('colab-df-quickchart-complete');\n",
              "        }\n",
              "        (() => {\n",
              "          let quickchartButtonEl =\n",
              "            document.querySelector('#df-f5f57335-d1e9-48f5-84e1-fa20f749bc57 button');\n",
              "          quickchartButtonEl.style.display =\n",
              "            google.colab.kernel.accessAllowed ? 'block' : 'none';\n",
              "        })();\n",
              "      </script>\n",
              "    </div>\n",
              "\n",
              "    </div>\n",
              "  </div>\n"
            ],
            "application/vnd.google.colaboratory.intrinsic+json": {
              "type": "dataframe",
              "variable_name": "df",
              "summary": "{\n  \"name\": \"df\",\n  \"rows\": 4806,\n  \"fields\": [\n    {\n      \"column\": \"movie_id\",\n      \"properties\": {\n        \"dtype\": \"number\",\n        \"std\": 88309,\n        \"min\": 5,\n        \"max\": 447027,\n        \"num_unique_values\": 4800,\n        \"samples\": [\n          8427,\n          15581,\n          9893\n        ],\n        \"semantic_type\": \"\",\n        \"description\": \"\"\n      }\n    },\n    {\n      \"column\": \"title\",\n      \"properties\": {\n        \"dtype\": \"string\",\n        \"num_unique_values\": 4797,\n        \"samples\": [\n          \"Two Brothers\",\n          \"From Paris with Love\",\n          \"Walk the Line\"\n        ],\n        \"semantic_type\": \"\",\n        \"description\": \"\"\n      }\n    },\n    {\n      \"column\": \"tags\",\n      \"properties\": {\n        \"dtype\": \"string\",\n        \"num_unique_values\": 4806,\n        \"samples\": [\n          \"the impressionistic story of a texas family in the 1950s. the film follows the life journey of the eldest son, jack, through the innocence of childhood to his disillusioned adult years as he tries to reconcile a complicated relationship with his father. jack finds himself a lost soul in the modern world, seeking answers to the origins and meaning of life while questioning the existence of faith. philosophy fathersonrelationship redhair brothersisterrelationship sun telegram tree meteor afterlife deathofachild independentfilm spirituality outerspace dinosaur voiceover verylittledialogue tarkovskyesque bradpitt seanpenn jessicachastain terrencemalick\",\n          \"set in south carolina in 1964, this is the tale of lily owens a 14 year-old girl who is haunted by the memory of her late mother. to escape her lonely life and troubled relationship with her father, lily flees with rosaleen, her caregiver and only friend, to a south carolina town that holds the secret to her mother's past. womandirector dakotafanning queenlatifah jenniferhudson ginaprince-bythewood\",\n          \"combat has taken its toll on rambo, but he's finally begun to find inner peace in a monastery. when rambo's friend and mentor col. trautman asks for his help on a top secret mission to afghanistan, rambo declines but must reconsider when trautman is captured. competition submachinegun sovietunion liberation russian soviettroops thailand freedomfighter afghanistan waronfreedom machinegun mujahid realityshow western japanesefood soapopera sylvesterstallone richardcrenna kurtwoodsmith petermacdonald\"\n        ],\n        \"semantic_type\": \"\",\n        \"description\": \"\"\n      }\n    }\n  ]\n}"
            }
          },
          "metadata": {},
          "execution_count": 25
        }
      ]
    },
    {
      "cell_type": "code",
      "source": [
        "from sklearn.feature_extraction.text import CountVectorizer"
      ],
      "metadata": {
        "id": "OJxafZSLwNKk"
      },
      "execution_count": 26,
      "outputs": []
    },
    {
      "cell_type": "code",
      "source": [
        "cv = CountVectorizer(max_features=5000,stop_words='english')"
      ],
      "metadata": {
        "id": "eEi9p8ZOsYMn"
      },
      "execution_count": 28,
      "outputs": []
    },
    {
      "cell_type": "code",
      "source": [
        "vector = cv.fit_transform(df.tags).toarray()"
      ],
      "metadata": {
        "id": "iH52E6assjSf"
      },
      "execution_count": 31,
      "outputs": []
    },
    {
      "cell_type": "code",
      "source": [
        "!pip install nltk"
      ],
      "metadata": {
        "colab": {
          "base_uri": "https://localhost:8080/"
        },
        "id": "MLAvWN3Vsunl",
        "outputId": "4e99ff65-efea-46ed-e536-458cde346080"
      },
      "execution_count": 32,
      "outputs": [
        {
          "output_type": "stream",
          "name": "stdout",
          "text": [
            "Requirement already satisfied: nltk in /usr/local/lib/python3.11/dist-packages (3.9.1)\n",
            "Requirement already satisfied: click in /usr/local/lib/python3.11/dist-packages (from nltk) (8.2.0)\n",
            "Requirement already satisfied: joblib in /usr/local/lib/python3.11/dist-packages (from nltk) (1.5.0)\n",
            "Requirement already satisfied: regex>=2021.8.3 in /usr/local/lib/python3.11/dist-packages (from nltk) (2024.11.6)\n",
            "Requirement already satisfied: tqdm in /usr/local/lib/python3.11/dist-packages (from nltk) (4.67.1)\n"
          ]
        }
      ]
    },
    {
      "cell_type": "code",
      "source": [
        "import nltk"
      ],
      "metadata": {
        "id": "5dBH6doFs8xj"
      },
      "execution_count": 33,
      "outputs": []
    },
    {
      "cell_type": "code",
      "source": [
        "from nltk.stem.porter import PorterStemmer\n",
        "ps = PorterStemmer()"
      ],
      "metadata": {
        "id": "E50Ocaprs_pr"
      },
      "execution_count": 34,
      "outputs": []
    },
    {
      "cell_type": "code",
      "source": [
        "def stem(text):\n",
        "  y=[]\n",
        "  for i in text.split():      #to convert string to a list\n",
        "    y.append(ps.stem(i))\n",
        "  return \" \".join(y)          #to convert list to string"
      ],
      "metadata": {
        "id": "ARZcjhNDtJzG"
      },
      "execution_count": 35,
      "outputs": []
    },
    {
      "cell_type": "code",
      "source": [
        "df.tags = df.tags.apply(stem)"
      ],
      "metadata": {
        "colab": {
          "base_uri": "https://localhost:8080/"
        },
        "id": "nR2dGMGktu2Y",
        "outputId": "a47c7cd7-a00f-47d1-98cf-d24389a4397f"
      },
      "execution_count": 38,
      "outputs": [
        {
          "output_type": "stream",
          "name": "stderr",
          "text": [
            "<ipython-input-38-a05dad0b18c6>:1: SettingWithCopyWarning: \n",
            "A value is trying to be set on a copy of a slice from a DataFrame.\n",
            "Try using .loc[row_indexer,col_indexer] = value instead\n",
            "\n",
            "See the caveats in the documentation: https://pandas.pydata.org/pandas-docs/stable/user_guide/indexing.html#returning-a-view-versus-a-copy\n",
            "  df.tags = df.tags.apply(stem)\n"
          ]
        }
      ]
    },
    {
      "cell_type": "code",
      "source": [
        "df.tags[0]"
      ],
      "metadata": {
        "colab": {
          "base_uri": "https://localhost:8080/",
          "height": 70
        },
        "id": "AK5tkG3Sty3E",
        "outputId": "e6142e2d-5f5d-4a6c-cdcc-325a17d7681e"
      },
      "execution_count": 40,
      "outputs": [
        {
          "output_type": "execute_result",
          "data": {
            "text/plain": [
              "'in the 22nd century, a parapleg marin is dispatch to the moon pandora on a uniqu mission, but becom torn between follow order and protect an alien civilization. cultureclash futur spacewar spacecoloni societi spacetravel futurist romanc space alien tribe alienplanet cgi marin soldier battl loveaffair antiwar powerrel mindandsoul 3d samworthington zoesaldana sigourneyweav jamescameron'"
            ],
            "application/vnd.google.colaboratory.intrinsic+json": {
              "type": "string"
            }
          },
          "metadata": {},
          "execution_count": 40
        }
      ]
    },
    {
      "cell_type": "code",
      "source": [
        "from sklearn.metrics.pairwise import cosine_similarity"
      ],
      "metadata": {
        "id": "Rl7lcoe1t4NB"
      },
      "execution_count": 41,
      "outputs": []
    },
    {
      "cell_type": "code",
      "source": [
        "similarity = cosine_similarity(vector)"
      ],
      "metadata": {
        "id": "vLoPsK_SuR6C"
      },
      "execution_count": 42,
      "outputs": []
    },
    {
      "cell_type": "code",
      "source": [
        "similarity[0].shape"
      ],
      "metadata": {
        "colab": {
          "base_uri": "https://localhost:8080/"
        },
        "id": "kuiqKEVxuXD2",
        "outputId": "9a0023ca-cd96-40b0-aa87-823cded57297"
      },
      "execution_count": 43,
      "outputs": [
        {
          "output_type": "execute_result",
          "data": {
            "text/plain": [
              "(4806,)"
            ]
          },
          "metadata": {},
          "execution_count": 43
        }
      ]
    },
    {
      "cell_type": "code",
      "source": [
        "similarity[0]"
      ],
      "metadata": {
        "colab": {
          "base_uri": "https://localhost:8080/"
        },
        "id": "bVGnFYv0ucDy",
        "outputId": "a4708c76-3042-4670-e7d4-6e8e3ed695d7"
      },
      "execution_count": 44,
      "outputs": [
        {
          "output_type": "execute_result",
          "data": {
            "text/plain": [
              "array([1.       , 0.       , 0.       , ..., 0.       , 0.0285831,\n",
              "       0.       ])"
            ]
          },
          "metadata": {},
          "execution_count": 44
        }
      ]
    },
    {
      "cell_type": "code",
      "source": [
        "# sorted(list(enumerate(similarity[0])),reverse = True,key=lambda x:x[1])[1:6]  code to get the list of 5 movies similar to a chosen movie"
      ],
      "metadata": {
        "id": "-2iagd5DwBNL"
      },
      "execution_count": null,
      "outputs": []
    },
    {
      "cell_type": "code",
      "source": [
        "def recommend(movie_name):\n",
        "  movie_index = df[df.title == movie_name].index[0]\n",
        "  distances = similarity[movie_index]\n",
        "  movies_list = sorted(list(enumerate(distances)),reverse = True,key=lambda x:x[1])[1:6]\n",
        "\n",
        "  for i in movies_list:\n",
        "    print(df.title[i[0]])\n",
        ""
      ],
      "metadata": {
        "id": "D4EjOt3PveLl"
      },
      "execution_count": 76,
      "outputs": []
    },
    {
      "cell_type": "code",
      "source": [
        "# df[df.title == 'Batman Begins'].index[0] code to get the index value of a movie"
      ],
      "metadata": {
        "id": "RoBf2kZUudpX"
      },
      "execution_count": 77,
      "outputs": []
    },
    {
      "cell_type": "code",
      "source": [
        "recommend('Avatar')"
      ],
      "metadata": {
        "colab": {
          "base_uri": "https://localhost:8080/"
        },
        "id": "c43omuiIulxI",
        "outputId": "5f55cd5d-ea81-44ce-ce94-005b8bdf010f"
      },
      "execution_count": 78,
      "outputs": [
        {
          "output_type": "stream",
          "name": "stdout",
          "text": [
            "Lone Wolf McQuade\n",
            "Aliens vs Predator: Requiem\n",
            "Lifeforce\n",
            "Battle: Los Angeles\n",
            "Titan A.E.\n"
          ]
        }
      ]
    },
    {
      "cell_type": "code",
      "source": [
        "recommend(\"Pirates of the Caribbean: At World's End\")"
      ],
      "metadata": {
        "colab": {
          "base_uri": "https://localhost:8080/"
        },
        "id": "nvMYzlmgximl",
        "outputId": "b6b5baf3-dc0c-4769-e843-d48e5cb6444a"
      },
      "execution_count": 79,
      "outputs": [
        {
          "output_type": "stream",
          "name": "stdout",
          "text": [
            "Pirates of the Caribbean: Dead Man's Chest\n",
            "Monster\n",
            "Pirates of the Caribbean: On Stranger Tides\n",
            "Pirates of the Caribbean: The Curse of the Black Pearl\n",
            "The Pirates! In an Adventure with Scientists!\n"
          ]
        }
      ]
    },
    {
      "cell_type": "code",
      "source": [],
      "metadata": {
        "id": "aj3h8M_oyfkZ"
      },
      "execution_count": null,
      "outputs": []
    }
  ]
}